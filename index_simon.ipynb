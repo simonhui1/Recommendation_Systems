{
 "cells": [
  {
   "cell_type": "markdown",
   "metadata": {},
   "source": [
    "IMPORT LIBRARIES"
   ]
  },
  {
   "cell_type": "code",
   "execution_count": 10,
   "metadata": {},
   "outputs": [],
   "source": [
    "import pandas as pd\n",
    "import numpy as np\n",
    "import matplotlib.pyplot as plt\n",
    "import seaborn as sns\n",
    "from IPython.display import display"
   ]
  },
  {
   "cell_type": "markdown",
   "metadata": {},
   "source": [
    "READ IN CSV FILES"
   ]
  },
  {
   "cell_type": "code",
   "execution_count": 2,
   "metadata": {},
   "outputs": [],
   "source": [
    "links_df = pd.read_csv('links.csv')\n",
    "movies_df = pd.read_csv('movies.csv')\n",
    "ratings_df = pd.read_csv('ratings.csv')\n",
    "tags_df = pd.read_csv('tags.csv')"
   ]
  },
  {
   "cell_type": "markdown",
   "metadata": {},
   "source": [
    "GENERAL **INFO** ON EVERY DATAFRAME"
   ]
  },
  {
   "cell_type": "code",
   "execution_count": 3,
   "metadata": {},
   "outputs": [
    {
     "name": "stdout",
     "output_type": "stream",
     "text": [
      "\n",
      " LINKS DataFrame Info:\n",
      "<class 'pandas.core.frame.DataFrame'>\n",
      "RangeIndex: 9742 entries, 0 to 9741\n",
      "Data columns (total 3 columns):\n",
      " #   Column   Non-Null Count  Dtype  \n",
      "---  ------   --------------  -----  \n",
      " 0   movieId  9742 non-null   int64  \n",
      " 1   imdbId   9742 non-null   int64  \n",
      " 2   tmdbId   9734 non-null   float64\n",
      "dtypes: float64(1), int64(2)\n",
      "memory usage: 228.5 KB\n",
      "\n",
      " MOVIES DataFrame Info:\n",
      "<class 'pandas.core.frame.DataFrame'>\n",
      "RangeIndex: 9742 entries, 0 to 9741\n",
      "Data columns (total 3 columns):\n",
      " #   Column   Non-Null Count  Dtype \n",
      "---  ------   --------------  ----- \n",
      " 0   movieId  9742 non-null   int64 \n",
      " 1   title    9742 non-null   object\n",
      " 2   genres   9742 non-null   object\n",
      "dtypes: int64(1), object(2)\n",
      "memory usage: 228.5+ KB\n",
      "\n",
      " RATINGS Dataframe Info:\n",
      "<class 'pandas.core.frame.DataFrame'>\n",
      "RangeIndex: 100836 entries, 0 to 100835\n",
      "Data columns (total 4 columns):\n",
      " #   Column     Non-Null Count   Dtype  \n",
      "---  ------     --------------   -----  \n",
      " 0   userId     100836 non-null  int64  \n",
      " 1   movieId    100836 non-null  int64  \n",
      " 2   rating     100836 non-null  float64\n",
      " 3   timestamp  100836 non-null  int64  \n",
      "dtypes: float64(1), int64(3)\n",
      "memory usage: 3.1 MB\n",
      "\n",
      " TAGS Dataframe Info:\n",
      "<class 'pandas.core.frame.DataFrame'>\n",
      "RangeIndex: 3683 entries, 0 to 3682\n",
      "Data columns (total 4 columns):\n",
      " #   Column     Non-Null Count  Dtype \n",
      "---  ------     --------------  ----- \n",
      " 0   userId     3683 non-null   int64 \n",
      " 1   movieId    3683 non-null   int64 \n",
      " 2   tag        3683 non-null   object\n",
      " 3   timestamp  3683 non-null   int64 \n",
      "dtypes: int64(3), object(1)\n",
      "memory usage: 115.2+ KB\n"
     ]
    }
   ],
   "source": [
    "print('\\n LINKS DataFrame Info:')\n",
    "links_df.info() \n",
    "\n",
    "print('\\n MOVIES DataFrame Info:')\n",
    "movies_df.info()\n",
    "\n",
    "print('\\n RATINGS Dataframe Info:')\n",
    "ratings_df.info()\n",
    "\n",
    "print('\\n TAGS Dataframe Info:')\n",
    "tags_df.info()"
   ]
  },
  {
   "cell_type": "markdown",
   "metadata": {},
   "source": [
    "LOOK AT **RANDOM SAMPLES**  "
   ]
  },
  {
   "cell_type": "code",
   "execution_count": 11,
   "metadata": {},
   "outputs": [],
   "source": [
    "def df_randomsamples(sample_size = 5, random_state = None, **dfs):\n",
    "    '''\n",
    "    Get side-by-side random samples from multiple DataFrames.\n",
    "    \n",
    "    Parameters:\n",
    "        sample_size (int): Number of rows to sample from each DataFrame. Default = 5.\n",
    "        random_state (int): Seed for random sampling. Default = None. \n",
    "        **dfs (pd.DataFrame): Keyword arguments where the key is the DataFrame name and the value is the DataFrame itself.\n",
    "    Returns:\n",
    "        pd.Dataframe: A DataFrame containing side-by-side random samples from each input DataFrame.\n",
    "    '''\n",
    "    random_samples = [(df_name, df.sample(n=sample_size, random_state=random_state)) for df_name, df in dfs.items()]\n",
    "    \n",
    "    # Display sampled DataFrames side by side\n",
    "    for df_name, sampled_df in random_samples:\n",
    "        print(f\"DataFrame: {df_name}\")\n",
    "        display(sampled_df)\n"
   ]
  },
  {
   "cell_type": "code",
   "execution_count": 16,
   "metadata": {},
   "outputs": [
    {
     "name": "stdout",
     "output_type": "stream",
     "text": [
      "DataFrame: tags_df\n"
     ]
    },
    {
     "data": {
      "text/html": [
       "<div>\n",
       "<style scoped>\n",
       "    .dataframe tbody tr th:only-of-type {\n",
       "        vertical-align: middle;\n",
       "    }\n",
       "\n",
       "    .dataframe tbody tr th {\n",
       "        vertical-align: top;\n",
       "    }\n",
       "\n",
       "    .dataframe thead th {\n",
       "        text-align: right;\n",
       "    }\n",
       "</style>\n",
       "<table border=\"1\" class=\"dataframe\">\n",
       "  <thead>\n",
       "    <tr style=\"text-align: right;\">\n",
       "      <th></th>\n",
       "      <th>userId</th>\n",
       "      <th>movieId</th>\n",
       "      <th>tag</th>\n",
       "      <th>timestamp</th>\n",
       "    </tr>\n",
       "  </thead>\n",
       "  <tbody>\n",
       "    <tr>\n",
       "      <th>2023</th>\n",
       "      <td>474</td>\n",
       "      <td>5644</td>\n",
       "      <td>baseball</td>\n",
       "      <td>1138039381</td>\n",
       "    </tr>\n",
       "    <tr>\n",
       "      <th>2587</th>\n",
       "      <td>477</td>\n",
       "      <td>4226</td>\n",
       "      <td>twist ending</td>\n",
       "      <td>1256051079</td>\n",
       "    </tr>\n",
       "    <tr>\n",
       "      <th>3222</th>\n",
       "      <td>567</td>\n",
       "      <td>112852</td>\n",
       "      <td>unlikely hero</td>\n",
       "      <td>1525285378</td>\n",
       "    </tr>\n",
       "    <tr>\n",
       "      <th>1263</th>\n",
       "      <td>474</td>\n",
       "      <td>1028</td>\n",
       "      <td>Disney</td>\n",
       "      <td>1137375815</td>\n",
       "    </tr>\n",
       "    <tr>\n",
       "      <th>781</th>\n",
       "      <td>424</td>\n",
       "      <td>1258</td>\n",
       "      <td>atmospheric</td>\n",
       "      <td>1457843344</td>\n",
       "    </tr>\n",
       "  </tbody>\n",
       "</table>\n",
       "</div>"
      ],
      "text/plain": [
       "      userId  movieId            tag   timestamp\n",
       "2023     474     5644       baseball  1138039381\n",
       "2587     477     4226   twist ending  1256051079\n",
       "3222     567   112852  unlikely hero  1525285378\n",
       "1263     474     1028         Disney  1137375815\n",
       "781      424     1258    atmospheric  1457843344"
      ]
     },
     "metadata": {},
     "output_type": "display_data"
    },
    {
     "name": "stdout",
     "output_type": "stream",
     "text": [
      "DataFrame: movies_df\n"
     ]
    },
    {
     "data": {
      "text/html": [
       "<div>\n",
       "<style scoped>\n",
       "    .dataframe tbody tr th:only-of-type {\n",
       "        vertical-align: middle;\n",
       "    }\n",
       "\n",
       "    .dataframe tbody tr th {\n",
       "        vertical-align: top;\n",
       "    }\n",
       "\n",
       "    .dataframe thead th {\n",
       "        text-align: right;\n",
       "    }\n",
       "</style>\n",
       "<table border=\"1\" class=\"dataframe\">\n",
       "  <thead>\n",
       "    <tr style=\"text-align: right;\">\n",
       "      <th></th>\n",
       "      <th>movieId</th>\n",
       "      <th>title</th>\n",
       "      <th>genres</th>\n",
       "    </tr>\n",
       "  </thead>\n",
       "  <tbody>\n",
       "    <tr>\n",
       "      <th>6213</th>\n",
       "      <td>45635</td>\n",
       "      <td>Notorious Bettie Page, The (2005)</td>\n",
       "      <td>Drama</td>\n",
       "    </tr>\n",
       "    <tr>\n",
       "      <th>1056</th>\n",
       "      <td>1373</td>\n",
       "      <td>Star Trek V: The Final Frontier (1989)</td>\n",
       "      <td>Action|Sci-Fi</td>\n",
       "    </tr>\n",
       "    <tr>\n",
       "      <th>4891</th>\n",
       "      <td>7325</td>\n",
       "      <td>Starsky &amp; Hutch (2004)</td>\n",
       "      <td>Action|Comedy|Crime|Thriller</td>\n",
       "    </tr>\n",
       "    <tr>\n",
       "      <th>346</th>\n",
       "      <td>389</td>\n",
       "      <td>Colonel Chabert, Le (1994)</td>\n",
       "      <td>Drama|Romance|War</td>\n",
       "    </tr>\n",
       "    <tr>\n",
       "      <th>5353</th>\n",
       "      <td>8920</td>\n",
       "      <td>Country Girl, The (1954)</td>\n",
       "      <td>Drama</td>\n",
       "    </tr>\n",
       "  </tbody>\n",
       "</table>\n",
       "</div>"
      ],
      "text/plain": [
       "      movieId                                   title  \\\n",
       "6213    45635       Notorious Bettie Page, The (2005)   \n",
       "1056     1373  Star Trek V: The Final Frontier (1989)   \n",
       "4891     7325                  Starsky & Hutch (2004)   \n",
       "346       389              Colonel Chabert, Le (1994)   \n",
       "5353     8920                Country Girl, The (1954)   \n",
       "\n",
       "                            genres  \n",
       "6213                         Drama  \n",
       "1056                 Action|Sci-Fi  \n",
       "4891  Action|Comedy|Crime|Thriller  \n",
       "346              Drama|Romance|War  \n",
       "5353                         Drama  "
      ]
     },
     "metadata": {},
     "output_type": "display_data"
    },
    {
     "name": "stdout",
     "output_type": "stream",
     "text": [
      "DataFrame: ratings_df\n"
     ]
    },
    {
     "data": {
      "text/html": [
       "<div>\n",
       "<style scoped>\n",
       "    .dataframe tbody tr th:only-of-type {\n",
       "        vertical-align: middle;\n",
       "    }\n",
       "\n",
       "    .dataframe tbody tr th {\n",
       "        vertical-align: top;\n",
       "    }\n",
       "\n",
       "    .dataframe thead th {\n",
       "        text-align: right;\n",
       "    }\n",
       "</style>\n",
       "<table border=\"1\" class=\"dataframe\">\n",
       "  <thead>\n",
       "    <tr style=\"text-align: right;\">\n",
       "      <th></th>\n",
       "      <th>userId</th>\n",
       "      <th>movieId</th>\n",
       "      <th>rating</th>\n",
       "      <th>timestamp</th>\n",
       "    </tr>\n",
       "  </thead>\n",
       "  <tbody>\n",
       "    <tr>\n",
       "      <th>67037</th>\n",
       "      <td>432</td>\n",
       "      <td>77866</td>\n",
       "      <td>4.5</td>\n",
       "      <td>1335139641</td>\n",
       "    </tr>\n",
       "    <tr>\n",
       "      <th>42175</th>\n",
       "      <td>288</td>\n",
       "      <td>474</td>\n",
       "      <td>3.0</td>\n",
       "      <td>978465565</td>\n",
       "    </tr>\n",
       "    <tr>\n",
       "      <th>93850</th>\n",
       "      <td>599</td>\n",
       "      <td>4351</td>\n",
       "      <td>3.0</td>\n",
       "      <td>1498524542</td>\n",
       "    </tr>\n",
       "    <tr>\n",
       "      <th>6187</th>\n",
       "      <td>42</td>\n",
       "      <td>2987</td>\n",
       "      <td>4.0</td>\n",
       "      <td>996262677</td>\n",
       "    </tr>\n",
       "    <tr>\n",
       "      <th>12229</th>\n",
       "      <td>75</td>\n",
       "      <td>1610</td>\n",
       "      <td>4.0</td>\n",
       "      <td>1158989841</td>\n",
       "    </tr>\n",
       "  </tbody>\n",
       "</table>\n",
       "</div>"
      ],
      "text/plain": [
       "       userId  movieId  rating   timestamp\n",
       "67037     432    77866     4.5  1335139641\n",
       "42175     288      474     3.0   978465565\n",
       "93850     599     4351     3.0  1498524542\n",
       "6187       42     2987     4.0   996262677\n",
       "12229      75     1610     4.0  1158989841"
      ]
     },
     "metadata": {},
     "output_type": "display_data"
    }
   ],
   "source": [
    "df_randomsamples(sample_size = 5, random_state = 42, tags_df = tags_df, movies_df = movies_df, ratings_df = ratings_df)"
   ]
  },
  {
   "cell_type": "code",
   "execution_count": 15,
   "metadata": {},
   "outputs": [
    {
     "data": {
      "text/html": [
       "<div>\n",
       "<style scoped>\n",
       "    .dataframe tbody tr th:only-of-type {\n",
       "        vertical-align: middle;\n",
       "    }\n",
       "\n",
       "    .dataframe tbody tr th {\n",
       "        vertical-align: top;\n",
       "    }\n",
       "\n",
       "    .dataframe thead th {\n",
       "        text-align: right;\n",
       "    }\n",
       "</style>\n",
       "<table border=\"1\" class=\"dataframe\">\n",
       "  <thead>\n",
       "    <tr style=\"text-align: right;\">\n",
       "      <th></th>\n",
       "      <th>userId</th>\n",
       "      <th>movieId</th>\n",
       "      <th>tag</th>\n",
       "      <th>timestamp</th>\n",
       "    </tr>\n",
       "  </thead>\n",
       "  <tbody>\n",
       "    <tr>\n",
       "      <th>2023</th>\n",
       "      <td>474</td>\n",
       "      <td>5644</td>\n",
       "      <td>baseball</td>\n",
       "      <td>1138039381</td>\n",
       "    </tr>\n",
       "    <tr>\n",
       "      <th>2587</th>\n",
       "      <td>477</td>\n",
       "      <td>4226</td>\n",
       "      <td>twist ending</td>\n",
       "      <td>1256051079</td>\n",
       "    </tr>\n",
       "    <tr>\n",
       "      <th>3222</th>\n",
       "      <td>567</td>\n",
       "      <td>112852</td>\n",
       "      <td>unlikely hero</td>\n",
       "      <td>1525285378</td>\n",
       "    </tr>\n",
       "    <tr>\n",
       "      <th>1263</th>\n",
       "      <td>474</td>\n",
       "      <td>1028</td>\n",
       "      <td>Disney</td>\n",
       "      <td>1137375815</td>\n",
       "    </tr>\n",
       "    <tr>\n",
       "      <th>781</th>\n",
       "      <td>424</td>\n",
       "      <td>1258</td>\n",
       "      <td>atmospheric</td>\n",
       "      <td>1457843344</td>\n",
       "    </tr>\n",
       "  </tbody>\n",
       "</table>\n",
       "</div>"
      ],
      "text/plain": [
       "      userId  movieId            tag   timestamp\n",
       "2023     474     5644       baseball  1138039381\n",
       "2587     477     4226   twist ending  1256051079\n",
       "3222     567   112852  unlikely hero  1525285378\n",
       "1263     474     1028         Disney  1137375815\n",
       "781      424     1258    atmospheric  1457843344"
      ]
     },
     "execution_count": 15,
     "metadata": {},
     "output_type": "execute_result"
    }
   ],
   "source": [
    "tags_df.sample(n = 5, random_state = 42)"
   ]
  },
  {
   "cell_type": "code",
   "execution_count": null,
   "metadata": {
    "scrolled": true
   },
   "outputs": [],
   "source": [
    "ratings_df.sample(n = 20)"
   ]
  },
  {
   "cell_type": "code",
   "execution_count": null,
   "metadata": {},
   "outputs": [],
   "source": [
    "movies_df.sample(n = 20)"
   ]
  },
  {
   "cell_type": "code",
   "execution_count": null,
   "metadata": {},
   "outputs": [],
   "source": []
  }
 ],
 "metadata": {
  "kernelspec": {
   "display_name": "Python (learn-env)",
   "language": "python",
   "name": "learn-env"
  },
  "language_info": {
   "codemirror_mode": {
    "name": "ipython",
    "version": 3
   },
   "file_extension": ".py",
   "mimetype": "text/x-python",
   "name": "python",
   "nbconvert_exporter": "python",
   "pygments_lexer": "ipython3",
   "version": "3.8.5"
  }
 },
 "nbformat": 4,
 "nbformat_minor": 4
}
