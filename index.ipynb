{
 "cells": [
  {
   "cell_type": "markdown",
   "metadata": {},
   "source": [
    "# Movie Recommendation Systems\n",
    "\n",
    "August 4th 2023"
   ]
  },
  {
   "cell_type": "markdown",
   "metadata": {},
   "source": [
    "## Team Members\n",
    "\n",
    "**Simon Hui** (GitHub/Presentation Lead)\n",
    "> simonh9963@gmail.com\n",
    "\n",
    "**Sangyun (Yun) Thom** (Technical Lead)\n",
    "> sangyun.thom@gmail.com"
   ]
  },
  {
   "cell_type": "markdown",
   "metadata": {},
   "source": [
    "## Business Problem"
   ]
  },
  {
   "cell_type": "markdown",
   "metadata": {},
   "source": [
    "Implementing a **recommendation system** is an eseential part of operating a movie streaming service platform. As a **new platform**, developing and tuning the recommendation system can improve the user experiences and engagement. The users get more personalized recommendations based on their previous experiences, which can enhance their engagement to the streaming service platform. Also, general user preferences can be collected internally to improve user satisfaction. However, it can be problematic when a new user signs up to the platform, because historical data for this specific user is not available. This is referred to as the **cold start problem**.\n",
    "\n",
    "The current project aims to provide **genre driven recommendations** to the new users without initial movie ratings from the user. Also, after initial input of the new user's movie ratings, we aim to implement different recommendation system to provide movie recommendations based on the initial rating.\n",
    "\n",
    "**Our overall goal** is to provide 5 movie recommendations to the new user based on the genre prefernce and movie rating information provided."
   ]
  },
  {
   "cell_type": "markdown",
   "metadata": {},
   "source": [
    "## Data Overview"
   ]
  },
  {
   "cell_type": "markdown",
   "metadata": {},
   "source": [
    "The movie ratings data has been retreived from [MovieLens](https://grouplens.org/datasets/movielens/latest/). Specifically, the **small** dataset with 100k ratings, over 9k movies, and 600 users is utilized for the current project. Movies are assigned different genres, and release year of the movies range from early 1900's to 2018. It was last updated in September of 2018."
   ]
  },
  {
   "cell_type": "markdown",
   "metadata": {},
   "source": [
    "### Brief explorating\n",
    "\n",
    "The data are separated into two CSV files: **movies.csv** and **ratings.csv**. Here, we briefly look at these two files to get a quick look at what is contained in each file."
   ]
  },
  {
   "cell_type": "code",
   "execution_count": 1,
   "metadata": {},
   "outputs": [],
   "source": [
    "# Importing necessary packages for following analyses\n",
    "import pandas as pd\n",
    "import numpy as np\n",
    "import matplotlib.pyplot as plt\n",
    "import itertools"
   ]
  },
  {
   "cell_type": "code",
   "execution_count": 2,
   "metadata": {
    "collapsed": true
   },
   "outputs": [
    {
     "data": {
      "text/html": [
       "<div>\n",
       "<style scoped>\n",
       "    .dataframe tbody tr th:only-of-type {\n",
       "        vertical-align: middle;\n",
       "    }\n",
       "\n",
       "    .dataframe tbody tr th {\n",
       "        vertical-align: top;\n",
       "    }\n",
       "\n",
       "    .dataframe thead th {\n",
       "        text-align: right;\n",
       "    }\n",
       "</style>\n",
       "<table border=\"1\" class=\"dataframe\">\n",
       "  <thead>\n",
       "    <tr style=\"text-align: right;\">\n",
       "      <th></th>\n",
       "      <th>movieId</th>\n",
       "      <th>title</th>\n",
       "      <th>genres</th>\n",
       "    </tr>\n",
       "  </thead>\n",
       "  <tbody>\n",
       "    <tr>\n",
       "      <th>0</th>\n",
       "      <td>1</td>\n",
       "      <td>Toy Story (1995)</td>\n",
       "      <td>Adventure|Animation|Children|Comedy|Fantasy</td>\n",
       "    </tr>\n",
       "    <tr>\n",
       "      <th>1</th>\n",
       "      <td>2</td>\n",
       "      <td>Jumanji (1995)</td>\n",
       "      <td>Adventure|Children|Fantasy</td>\n",
       "    </tr>\n",
       "    <tr>\n",
       "      <th>2</th>\n",
       "      <td>3</td>\n",
       "      <td>Grumpier Old Men (1995)</td>\n",
       "      <td>Comedy|Romance</td>\n",
       "    </tr>\n",
       "    <tr>\n",
       "      <th>3</th>\n",
       "      <td>4</td>\n",
       "      <td>Waiting to Exhale (1995)</td>\n",
       "      <td>Comedy|Drama|Romance</td>\n",
       "    </tr>\n",
       "    <tr>\n",
       "      <th>4</th>\n",
       "      <td>5</td>\n",
       "      <td>Father of the Bride Part II (1995)</td>\n",
       "      <td>Comedy</td>\n",
       "    </tr>\n",
       "  </tbody>\n",
       "</table>\n",
       "</div>"
      ],
      "text/plain": [
       "   movieId                               title   \n",
       "0        1                    Toy Story (1995)  \\\n",
       "1        2                      Jumanji (1995)   \n",
       "2        3             Grumpier Old Men (1995)   \n",
       "3        4            Waiting to Exhale (1995)   \n",
       "4        5  Father of the Bride Part II (1995)   \n",
       "\n",
       "                                        genres  \n",
       "0  Adventure|Animation|Children|Comedy|Fantasy  \n",
       "1                   Adventure|Children|Fantasy  \n",
       "2                               Comedy|Romance  \n",
       "3                         Comedy|Drama|Romance  \n",
       "4                                       Comedy  "
      ]
     },
     "execution_count": 2,
     "metadata": {},
     "output_type": "execute_result"
    }
   ],
   "source": [
    "# Read our first CSV file\n",
    "movies = pd.read_csv(\"movies.csv\")\n",
    "movies.head()"
   ]
  },
  {
   "cell_type": "code",
   "execution_count": 3,
   "metadata": {
    "collapsed": true
   },
   "outputs": [
    {
     "name": "stdout",
     "output_type": "stream",
     "text": [
      "<class 'pandas.core.frame.DataFrame'>\n",
      "RangeIndex: 9742 entries, 0 to 9741\n",
      "Data columns (total 3 columns):\n",
      " #   Column   Non-Null Count  Dtype \n",
      "---  ------   --------------  ----- \n",
      " 0   movieId  9742 non-null   int64 \n",
      " 1   title    9742 non-null   object\n",
      " 2   genres   9742 non-null   object\n",
      "dtypes: int64(1), object(2)\n",
      "memory usage: 228.5+ KB\n"
     ]
    }
   ],
   "source": [
    "movies.info()"
   ]
  },
  {
   "cell_type": "code",
   "execution_count": 4,
   "metadata": {
    "collapsed": true
   },
   "outputs": [
    {
     "data": {
      "text/html": [
       "<div>\n",
       "<style scoped>\n",
       "    .dataframe tbody tr th:only-of-type {\n",
       "        vertical-align: middle;\n",
       "    }\n",
       "\n",
       "    .dataframe tbody tr th {\n",
       "        vertical-align: top;\n",
       "    }\n",
       "\n",
       "    .dataframe thead th {\n",
       "        text-align: right;\n",
       "    }\n",
       "</style>\n",
       "<table border=\"1\" class=\"dataframe\">\n",
       "  <thead>\n",
       "    <tr style=\"text-align: right;\">\n",
       "      <th></th>\n",
       "      <th>movieId</th>\n",
       "    </tr>\n",
       "  </thead>\n",
       "  <tbody>\n",
       "    <tr>\n",
       "      <th>count</th>\n",
       "      <td>9742.000000</td>\n",
       "    </tr>\n",
       "    <tr>\n",
       "      <th>mean</th>\n",
       "      <td>42200.353623</td>\n",
       "    </tr>\n",
       "    <tr>\n",
       "      <th>std</th>\n",
       "      <td>52160.494854</td>\n",
       "    </tr>\n",
       "    <tr>\n",
       "      <th>min</th>\n",
       "      <td>1.000000</td>\n",
       "    </tr>\n",
       "    <tr>\n",
       "      <th>25%</th>\n",
       "      <td>3248.250000</td>\n",
       "    </tr>\n",
       "    <tr>\n",
       "      <th>50%</th>\n",
       "      <td>7300.000000</td>\n",
       "    </tr>\n",
       "    <tr>\n",
       "      <th>75%</th>\n",
       "      <td>76232.000000</td>\n",
       "    </tr>\n",
       "    <tr>\n",
       "      <th>max</th>\n",
       "      <td>193609.000000</td>\n",
       "    </tr>\n",
       "  </tbody>\n",
       "</table>\n",
       "</div>"
      ],
      "text/plain": [
       "             movieId\n",
       "count    9742.000000\n",
       "mean    42200.353623\n",
       "std     52160.494854\n",
       "min         1.000000\n",
       "25%      3248.250000\n",
       "50%      7300.000000\n",
       "75%     76232.000000\n",
       "max    193609.000000"
      ]
     },
     "execution_count": 4,
     "metadata": {},
     "output_type": "execute_result"
    }
   ],
   "source": [
    "movies.describe()"
   ]
  },
  {
   "cell_type": "code",
   "execution_count": 5,
   "metadata": {
    "collapsed": true
   },
   "outputs": [
    {
     "data": {
      "text/html": [
       "<div>\n",
       "<style scoped>\n",
       "    .dataframe tbody tr th:only-of-type {\n",
       "        vertical-align: middle;\n",
       "    }\n",
       "\n",
       "    .dataframe tbody tr th {\n",
       "        vertical-align: top;\n",
       "    }\n",
       "\n",
       "    .dataframe thead th {\n",
       "        text-align: right;\n",
       "    }\n",
       "</style>\n",
       "<table border=\"1\" class=\"dataframe\">\n",
       "  <thead>\n",
       "    <tr style=\"text-align: right;\">\n",
       "      <th></th>\n",
       "      <th>userId</th>\n",
       "      <th>movieId</th>\n",
       "      <th>rating</th>\n",
       "      <th>timestamp</th>\n",
       "    </tr>\n",
       "  </thead>\n",
       "  <tbody>\n",
       "    <tr>\n",
       "      <th>0</th>\n",
       "      <td>1</td>\n",
       "      <td>1</td>\n",
       "      <td>4.0</td>\n",
       "      <td>964982703</td>\n",
       "    </tr>\n",
       "    <tr>\n",
       "      <th>1</th>\n",
       "      <td>1</td>\n",
       "      <td>3</td>\n",
       "      <td>4.0</td>\n",
       "      <td>964981247</td>\n",
       "    </tr>\n",
       "    <tr>\n",
       "      <th>2</th>\n",
       "      <td>1</td>\n",
       "      <td>6</td>\n",
       "      <td>4.0</td>\n",
       "      <td>964982224</td>\n",
       "    </tr>\n",
       "    <tr>\n",
       "      <th>3</th>\n",
       "      <td>1</td>\n",
       "      <td>47</td>\n",
       "      <td>5.0</td>\n",
       "      <td>964983815</td>\n",
       "    </tr>\n",
       "    <tr>\n",
       "      <th>4</th>\n",
       "      <td>1</td>\n",
       "      <td>50</td>\n",
       "      <td>5.0</td>\n",
       "      <td>964982931</td>\n",
       "    </tr>\n",
       "  </tbody>\n",
       "</table>\n",
       "</div>"
      ],
      "text/plain": [
       "   userId  movieId  rating  timestamp\n",
       "0       1        1     4.0  964982703\n",
       "1       1        3     4.0  964981247\n",
       "2       1        6     4.0  964982224\n",
       "3       1       47     5.0  964983815\n",
       "4       1       50     5.0  964982931"
      ]
     },
     "execution_count": 5,
     "metadata": {},
     "output_type": "execute_result"
    }
   ],
   "source": [
    "ratings = pd.read_csv(\"ratings.csv\")\n",
    "\n",
    "ratings.head()"
   ]
  },
  {
   "cell_type": "code",
   "execution_count": 6,
   "metadata": {
    "collapsed": true
   },
   "outputs": [
    {
     "name": "stdout",
     "output_type": "stream",
     "text": [
      "<class 'pandas.core.frame.DataFrame'>\n",
      "RangeIndex: 100836 entries, 0 to 100835\n",
      "Data columns (total 4 columns):\n",
      " #   Column     Non-Null Count   Dtype  \n",
      "---  ------     --------------   -----  \n",
      " 0   userId     100836 non-null  int64  \n",
      " 1   movieId    100836 non-null  int64  \n",
      " 2   rating     100836 non-null  float64\n",
      " 3   timestamp  100836 non-null  int64  \n",
      "dtypes: float64(1), int64(3)\n",
      "memory usage: 3.1 MB\n"
     ]
    }
   ],
   "source": [
    "ratings.info()"
   ]
  },
  {
   "cell_type": "code",
   "execution_count": 7,
   "metadata": {
    "collapsed": true
   },
   "outputs": [
    {
     "data": {
      "text/html": [
       "<div>\n",
       "<style scoped>\n",
       "    .dataframe tbody tr th:only-of-type {\n",
       "        vertical-align: middle;\n",
       "    }\n",
       "\n",
       "    .dataframe tbody tr th {\n",
       "        vertical-align: top;\n",
       "    }\n",
       "\n",
       "    .dataframe thead th {\n",
       "        text-align: right;\n",
       "    }\n",
       "</style>\n",
       "<table border=\"1\" class=\"dataframe\">\n",
       "  <thead>\n",
       "    <tr style=\"text-align: right;\">\n",
       "      <th></th>\n",
       "      <th>userId</th>\n",
       "      <th>movieId</th>\n",
       "      <th>rating</th>\n",
       "      <th>timestamp</th>\n",
       "    </tr>\n",
       "  </thead>\n",
       "  <tbody>\n",
       "    <tr>\n",
       "      <th>count</th>\n",
       "      <td>100836.000000</td>\n",
       "      <td>100836.000000</td>\n",
       "      <td>100836.000000</td>\n",
       "      <td>1.008360e+05</td>\n",
       "    </tr>\n",
       "    <tr>\n",
       "      <th>mean</th>\n",
       "      <td>326.127564</td>\n",
       "      <td>19435.295718</td>\n",
       "      <td>3.501557</td>\n",
       "      <td>1.205946e+09</td>\n",
       "    </tr>\n",
       "    <tr>\n",
       "      <th>std</th>\n",
       "      <td>182.618491</td>\n",
       "      <td>35530.987199</td>\n",
       "      <td>1.042529</td>\n",
       "      <td>2.162610e+08</td>\n",
       "    </tr>\n",
       "    <tr>\n",
       "      <th>min</th>\n",
       "      <td>1.000000</td>\n",
       "      <td>1.000000</td>\n",
       "      <td>0.500000</td>\n",
       "      <td>8.281246e+08</td>\n",
       "    </tr>\n",
       "    <tr>\n",
       "      <th>25%</th>\n",
       "      <td>177.000000</td>\n",
       "      <td>1199.000000</td>\n",
       "      <td>3.000000</td>\n",
       "      <td>1.019124e+09</td>\n",
       "    </tr>\n",
       "    <tr>\n",
       "      <th>50%</th>\n",
       "      <td>325.000000</td>\n",
       "      <td>2991.000000</td>\n",
       "      <td>3.500000</td>\n",
       "      <td>1.186087e+09</td>\n",
       "    </tr>\n",
       "    <tr>\n",
       "      <th>75%</th>\n",
       "      <td>477.000000</td>\n",
       "      <td>8122.000000</td>\n",
       "      <td>4.000000</td>\n",
       "      <td>1.435994e+09</td>\n",
       "    </tr>\n",
       "    <tr>\n",
       "      <th>max</th>\n",
       "      <td>610.000000</td>\n",
       "      <td>193609.000000</td>\n",
       "      <td>5.000000</td>\n",
       "      <td>1.537799e+09</td>\n",
       "    </tr>\n",
       "  </tbody>\n",
       "</table>\n",
       "</div>"
      ],
      "text/plain": [
       "              userId        movieId         rating     timestamp\n",
       "count  100836.000000  100836.000000  100836.000000  1.008360e+05\n",
       "mean      326.127564   19435.295718       3.501557  1.205946e+09\n",
       "std       182.618491   35530.987199       1.042529  2.162610e+08\n",
       "min         1.000000       1.000000       0.500000  8.281246e+08\n",
       "25%       177.000000    1199.000000       3.000000  1.019124e+09\n",
       "50%       325.000000    2991.000000       3.500000  1.186087e+09\n",
       "75%       477.000000    8122.000000       4.000000  1.435994e+09\n",
       "max       610.000000  193609.000000       5.000000  1.537799e+09"
      ]
     },
     "execution_count": 7,
     "metadata": {},
     "output_type": "execute_result"
    }
   ],
   "source": [
    "ratings.describe()"
   ]
  },
  {
   "cell_type": "markdown",
   "metadata": {},
   "source": [
    "One notable thing from breif exploration is that both files have **no null values** to impute or remove. Also, the **movieId** column appears in both files; thus, it can be used to merge these two together. "
   ]
  },
  {
   "cell_type": "markdown",
   "metadata": {},
   "source": [
    "## Feature Engineering"
   ]
  },
  {
   "cell_type": "markdown",
   "metadata": {},
   "source": [
    "### 1. `year` column to extract the movie release year\n",
    "\n",
    "If the release year is identified at the end of the movie title, we extract the release year and store the information in a separate column."
   ]
  },
  {
   "cell_type": "code",
   "execution_count": 8,
   "metadata": {},
   "outputs": [],
   "source": [
    "# Function to extract years\n",
    "def extract_years(movie):\n",
    "    \"\"\"\n",
    "    Extract the release year of the movie by taking 4 digits of numerals in parentheses at \n",
    "    the end of the title. \n",
    "    \n",
    "    Parameter:\n",
    "        movie: string\n",
    "    Returns: \n",
    "        year: integar. If it is not defined, the ouput is 0 as a missing value.\n",
    "    \"\"\"\n",
    "    year_digits = movie.rstrip(\" )\")[-4:]\n",
    "\n",
    "    if year_digits.isdigit():\n",
    "        year = int(year_digits)\n",
    "    else:\n",
    "        year = 0\n",
    "    return year"
   ]
  },
  {
   "cell_type": "code",
   "execution_count": 9,
   "metadata": {},
   "outputs": [
    {
     "data": {
      "text/html": [
       "<div>\n",
       "<style scoped>\n",
       "    .dataframe tbody tr th:only-of-type {\n",
       "        vertical-align: middle;\n",
       "    }\n",
       "\n",
       "    .dataframe tbody tr th {\n",
       "        vertical-align: top;\n",
       "    }\n",
       "\n",
       "    .dataframe thead th {\n",
       "        text-align: right;\n",
       "    }\n",
       "</style>\n",
       "<table border=\"1\" class=\"dataframe\">\n",
       "  <thead>\n",
       "    <tr style=\"text-align: right;\">\n",
       "      <th></th>\n",
       "      <th>movieId</th>\n",
       "      <th>title</th>\n",
       "      <th>genres</th>\n",
       "      <th>year</th>\n",
       "    </tr>\n",
       "  </thead>\n",
       "  <tbody>\n",
       "    <tr>\n",
       "      <th>0</th>\n",
       "      <td>1</td>\n",
       "      <td>Toy Story (1995)</td>\n",
       "      <td>Adventure|Animation|Children|Comedy|Fantasy</td>\n",
       "      <td>1995</td>\n",
       "    </tr>\n",
       "    <tr>\n",
       "      <th>1</th>\n",
       "      <td>2</td>\n",
       "      <td>Jumanji (1995)</td>\n",
       "      <td>Adventure|Children|Fantasy</td>\n",
       "      <td>1995</td>\n",
       "    </tr>\n",
       "    <tr>\n",
       "      <th>2</th>\n",
       "      <td>3</td>\n",
       "      <td>Grumpier Old Men (1995)</td>\n",
       "      <td>Comedy|Romance</td>\n",
       "      <td>1995</td>\n",
       "    </tr>\n",
       "    <tr>\n",
       "      <th>3</th>\n",
       "      <td>4</td>\n",
       "      <td>Waiting to Exhale (1995)</td>\n",
       "      <td>Comedy|Drama|Romance</td>\n",
       "      <td>1995</td>\n",
       "    </tr>\n",
       "    <tr>\n",
       "      <th>4</th>\n",
       "      <td>5</td>\n",
       "      <td>Father of the Bride Part II (1995)</td>\n",
       "      <td>Comedy</td>\n",
       "      <td>1995</td>\n",
       "    </tr>\n",
       "  </tbody>\n",
       "</table>\n",
       "</div>"
      ],
      "text/plain": [
       "   movieId                               title   \n",
       "0        1                    Toy Story (1995)  \\\n",
       "1        2                      Jumanji (1995)   \n",
       "2        3             Grumpier Old Men (1995)   \n",
       "3        4            Waiting to Exhale (1995)   \n",
       "4        5  Father of the Bride Part II (1995)   \n",
       "\n",
       "                                        genres  year  \n",
       "0  Adventure|Animation|Children|Comedy|Fantasy  1995  \n",
       "1                   Adventure|Children|Fantasy  1995  \n",
       "2                               Comedy|Romance  1995  \n",
       "3                         Comedy|Drama|Romance  1995  \n",
       "4                                       Comedy  1995  "
      ]
     },
     "execution_count": 9,
     "metadata": {},
     "output_type": "execute_result"
    }
   ],
   "source": [
    "# Release year extraction\n",
    "movies['year'] = movies['title'].apply(extract_years)\n",
    "\n",
    "movies.head()"
   ]
  },
  {
   "cell_type": "markdown",
   "metadata": {},
   "source": [
    "As shown above via the `.head()` method, the `year` column has been created with the release year."
   ]
  },
  {
   "cell_type": "markdown",
   "metadata": {},
   "source": [
    "### 2. Merge `movies` and `ratings` CSV files together\n",
    "\n",
    "Now that we have the release year column, we merge two files together on the `movieId` column, as we explored earlier."
   ]
  },
  {
   "cell_type": "code",
   "execution_count": 10,
   "metadata": {},
   "outputs": [
    {
     "data": {
      "text/html": [
       "<div>\n",
       "<style scoped>\n",
       "    .dataframe tbody tr th:only-of-type {\n",
       "        vertical-align: middle;\n",
       "    }\n",
       "\n",
       "    .dataframe tbody tr th {\n",
       "        vertical-align: top;\n",
       "    }\n",
       "\n",
       "    .dataframe thead th {\n",
       "        text-align: right;\n",
       "    }\n",
       "</style>\n",
       "<table border=\"1\" class=\"dataframe\">\n",
       "  <thead>\n",
       "    <tr style=\"text-align: right;\">\n",
       "      <th></th>\n",
       "      <th>movieId</th>\n",
       "      <th>title</th>\n",
       "      <th>genres</th>\n",
       "      <th>year</th>\n",
       "      <th>userId</th>\n",
       "      <th>rating</th>\n",
       "      <th>timestamp</th>\n",
       "    </tr>\n",
       "  </thead>\n",
       "  <tbody>\n",
       "    <tr>\n",
       "      <th>0</th>\n",
       "      <td>1</td>\n",
       "      <td>Toy Story (1995)</td>\n",
       "      <td>Adventure|Animation|Children|Comedy|Fantasy</td>\n",
       "      <td>1995</td>\n",
       "      <td>1</td>\n",
       "      <td>4.0</td>\n",
       "      <td>964982703</td>\n",
       "    </tr>\n",
       "    <tr>\n",
       "      <th>1</th>\n",
       "      <td>1</td>\n",
       "      <td>Toy Story (1995)</td>\n",
       "      <td>Adventure|Animation|Children|Comedy|Fantasy</td>\n",
       "      <td>1995</td>\n",
       "      <td>5</td>\n",
       "      <td>4.0</td>\n",
       "      <td>847434962</td>\n",
       "    </tr>\n",
       "    <tr>\n",
       "      <th>2</th>\n",
       "      <td>1</td>\n",
       "      <td>Toy Story (1995)</td>\n",
       "      <td>Adventure|Animation|Children|Comedy|Fantasy</td>\n",
       "      <td>1995</td>\n",
       "      <td>7</td>\n",
       "      <td>4.5</td>\n",
       "      <td>1106635946</td>\n",
       "    </tr>\n",
       "    <tr>\n",
       "      <th>3</th>\n",
       "      <td>1</td>\n",
       "      <td>Toy Story (1995)</td>\n",
       "      <td>Adventure|Animation|Children|Comedy|Fantasy</td>\n",
       "      <td>1995</td>\n",
       "      <td>15</td>\n",
       "      <td>2.5</td>\n",
       "      <td>1510577970</td>\n",
       "    </tr>\n",
       "    <tr>\n",
       "      <th>4</th>\n",
       "      <td>1</td>\n",
       "      <td>Toy Story (1995)</td>\n",
       "      <td>Adventure|Animation|Children|Comedy|Fantasy</td>\n",
       "      <td>1995</td>\n",
       "      <td>17</td>\n",
       "      <td>4.5</td>\n",
       "      <td>1305696483</td>\n",
       "    </tr>\n",
       "  </tbody>\n",
       "</table>\n",
       "</div>"
      ],
      "text/plain": [
       "   movieId             title                                       genres   \n",
       "0        1  Toy Story (1995)  Adventure|Animation|Children|Comedy|Fantasy  \\\n",
       "1        1  Toy Story (1995)  Adventure|Animation|Children|Comedy|Fantasy   \n",
       "2        1  Toy Story (1995)  Adventure|Animation|Children|Comedy|Fantasy   \n",
       "3        1  Toy Story (1995)  Adventure|Animation|Children|Comedy|Fantasy   \n",
       "4        1  Toy Story (1995)  Adventure|Animation|Children|Comedy|Fantasy   \n",
       "\n",
       "   year  userId  rating   timestamp  \n",
       "0  1995       1     4.0   964982703  \n",
       "1  1995       5     4.0   847434962  \n",
       "2  1995       7     4.5  1106635946  \n",
       "3  1995      15     2.5  1510577970  \n",
       "4  1995      17     4.5  1305696483  "
      ]
     },
     "execution_count": 10,
     "metadata": {},
     "output_type": "execute_result"
    }
   ],
   "source": [
    "movies = pd.merge(movies, ratings, on='movieId', how='inner')\n",
    "\n",
    "movies.head()"
   ]
  },
  {
   "cell_type": "markdown",
   "metadata": {},
   "source": [
    "### 3. Separate `genres` into individual columns"
   ]
  },
  {
   "cell_type": "code",
   "execution_count": 11,
   "metadata": {},
   "outputs": [
    {
     "data": {
      "text/html": [
       "<div>\n",
       "<style scoped>\n",
       "    .dataframe tbody tr th:only-of-type {\n",
       "        vertical-align: middle;\n",
       "    }\n",
       "\n",
       "    .dataframe tbody tr th {\n",
       "        vertical-align: top;\n",
       "    }\n",
       "\n",
       "    .dataframe thead th {\n",
       "        text-align: right;\n",
       "    }\n",
       "</style>\n",
       "<table border=\"1\" class=\"dataframe\">\n",
       "  <thead>\n",
       "    <tr style=\"text-align: right;\">\n",
       "      <th></th>\n",
       "      <th>movieId</th>\n",
       "      <th>title</th>\n",
       "      <th>genres</th>\n",
       "      <th>year</th>\n",
       "      <th>userId</th>\n",
       "      <th>rating</th>\n",
       "      <th>timestamp</th>\n",
       "    </tr>\n",
       "  </thead>\n",
       "  <tbody>\n",
       "    <tr>\n",
       "      <th>0</th>\n",
       "      <td>1</td>\n",
       "      <td>Toy Story (1995)</td>\n",
       "      <td>[Adventure, Animation, Children, Comedy, Fantasy]</td>\n",
       "      <td>1995</td>\n",
       "      <td>1</td>\n",
       "      <td>4.0</td>\n",
       "      <td>964982703</td>\n",
       "    </tr>\n",
       "    <tr>\n",
       "      <th>1</th>\n",
       "      <td>1</td>\n",
       "      <td>Toy Story (1995)</td>\n",
       "      <td>[Adventure, Animation, Children, Comedy, Fantasy]</td>\n",
       "      <td>1995</td>\n",
       "      <td>5</td>\n",
       "      <td>4.0</td>\n",
       "      <td>847434962</td>\n",
       "    </tr>\n",
       "    <tr>\n",
       "      <th>2</th>\n",
       "      <td>1</td>\n",
       "      <td>Toy Story (1995)</td>\n",
       "      <td>[Adventure, Animation, Children, Comedy, Fantasy]</td>\n",
       "      <td>1995</td>\n",
       "      <td>7</td>\n",
       "      <td>4.5</td>\n",
       "      <td>1106635946</td>\n",
       "    </tr>\n",
       "    <tr>\n",
       "      <th>3</th>\n",
       "      <td>1</td>\n",
       "      <td>Toy Story (1995)</td>\n",
       "      <td>[Adventure, Animation, Children, Comedy, Fantasy]</td>\n",
       "      <td>1995</td>\n",
       "      <td>15</td>\n",
       "      <td>2.5</td>\n",
       "      <td>1510577970</td>\n",
       "    </tr>\n",
       "    <tr>\n",
       "      <th>4</th>\n",
       "      <td>1</td>\n",
       "      <td>Toy Story (1995)</td>\n",
       "      <td>[Adventure, Animation, Children, Comedy, Fantasy]</td>\n",
       "      <td>1995</td>\n",
       "      <td>17</td>\n",
       "      <td>4.5</td>\n",
       "      <td>1305696483</td>\n",
       "    </tr>\n",
       "  </tbody>\n",
       "</table>\n",
       "</div>"
      ],
      "text/plain": [
       "   movieId             title   \n",
       "0        1  Toy Story (1995)  \\\n",
       "1        1  Toy Story (1995)   \n",
       "2        1  Toy Story (1995)   \n",
       "3        1  Toy Story (1995)   \n",
       "4        1  Toy Story (1995)   \n",
       "\n",
       "                                              genres  year  userId  rating   \n",
       "0  [Adventure, Animation, Children, Comedy, Fantasy]  1995       1     4.0  \\\n",
       "1  [Adventure, Animation, Children, Comedy, Fantasy]  1995       5     4.0   \n",
       "2  [Adventure, Animation, Children, Comedy, Fantasy]  1995       7     4.5   \n",
       "3  [Adventure, Animation, Children, Comedy, Fantasy]  1995      15     2.5   \n",
       "4  [Adventure, Animation, Children, Comedy, Fantasy]  1995      17     4.5   \n",
       "\n",
       "    timestamp  \n",
       "0   964982703  \n",
       "1   847434962  \n",
       "2  1106635946  \n",
       "3  1510577970  \n",
       "4  1305696483  "
      ]
     },
     "execution_count": 11,
     "metadata": {},
     "output_type": "execute_result"
    }
   ],
   "source": [
    "movies['genres'] = movies['genres'].str.split(\"|\")\n",
    "movies.head()"
   ]
  },
  {
   "cell_type": "markdown",
   "metadata": {},
   "source": [
    "After the `genres` column has a list of genres assigned to the given movie, we use [MultiLabelBinarizer](https://scikit-learn.org/stable/modules/generated/sklearn.preprocessing.MultiLabelBinarizer.html) to encode each genre into a column with binary values (0 indicates not assigned to the genre, and 1 indicates the given genre assigned)."
   ]
  },
  {
   "cell_type": "code",
   "execution_count": 12,
   "metadata": {},
   "outputs": [
    {
     "data": {
      "text/html": [
       "<div>\n",
       "<style scoped>\n",
       "    .dataframe tbody tr th:only-of-type {\n",
       "        vertical-align: middle;\n",
       "    }\n",
       "\n",
       "    .dataframe tbody tr th {\n",
       "        vertical-align: top;\n",
       "    }\n",
       "\n",
       "    .dataframe thead th {\n",
       "        text-align: right;\n",
       "    }\n",
       "</style>\n",
       "<table border=\"1\" class=\"dataframe\">\n",
       "  <thead>\n",
       "    <tr style=\"text-align: right;\">\n",
       "      <th></th>\n",
       "      <th>movieId</th>\n",
       "      <th>title</th>\n",
       "      <th>genres</th>\n",
       "      <th>year</th>\n",
       "      <th>userId</th>\n",
       "      <th>rating</th>\n",
       "      <th>timestamp</th>\n",
       "      <th>(no genres listed)</th>\n",
       "      <th>Action</th>\n",
       "      <th>Adventure</th>\n",
       "      <th>...</th>\n",
       "      <th>Film-Noir</th>\n",
       "      <th>Horror</th>\n",
       "      <th>IMAX</th>\n",
       "      <th>Musical</th>\n",
       "      <th>Mystery</th>\n",
       "      <th>Romance</th>\n",
       "      <th>Sci-Fi</th>\n",
       "      <th>Thriller</th>\n",
       "      <th>War</th>\n",
       "      <th>Western</th>\n",
       "    </tr>\n",
       "  </thead>\n",
       "  <tbody>\n",
       "    <tr>\n",
       "      <th>100831</th>\n",
       "      <td>193581</td>\n",
       "      <td>Black Butler: Book of the Atlantic (2017)</td>\n",
       "      <td>[Action, Animation, Comedy, Fantasy]</td>\n",
       "      <td>2017</td>\n",
       "      <td>184</td>\n",
       "      <td>4.0</td>\n",
       "      <td>1537109082</td>\n",
       "      <td>0</td>\n",
       "      <td>1</td>\n",
       "      <td>0</td>\n",
       "      <td>...</td>\n",
       "      <td>0</td>\n",
       "      <td>0</td>\n",
       "      <td>0</td>\n",
       "      <td>0</td>\n",
       "      <td>0</td>\n",
       "      <td>0</td>\n",
       "      <td>0</td>\n",
       "      <td>0</td>\n",
       "      <td>0</td>\n",
       "      <td>0</td>\n",
       "    </tr>\n",
       "    <tr>\n",
       "      <th>100832</th>\n",
       "      <td>193583</td>\n",
       "      <td>No Game No Life: Zero (2017)</td>\n",
       "      <td>[Animation, Comedy, Fantasy]</td>\n",
       "      <td>2017</td>\n",
       "      <td>184</td>\n",
       "      <td>3.5</td>\n",
       "      <td>1537109545</td>\n",
       "      <td>0</td>\n",
       "      <td>0</td>\n",
       "      <td>0</td>\n",
       "      <td>...</td>\n",
       "      <td>0</td>\n",
       "      <td>0</td>\n",
       "      <td>0</td>\n",
       "      <td>0</td>\n",
       "      <td>0</td>\n",
       "      <td>0</td>\n",
       "      <td>0</td>\n",
       "      <td>0</td>\n",
       "      <td>0</td>\n",
       "      <td>0</td>\n",
       "    </tr>\n",
       "    <tr>\n",
       "      <th>100833</th>\n",
       "      <td>193585</td>\n",
       "      <td>Flint (2017)</td>\n",
       "      <td>[Drama]</td>\n",
       "      <td>2017</td>\n",
       "      <td>184</td>\n",
       "      <td>3.5</td>\n",
       "      <td>1537109805</td>\n",
       "      <td>0</td>\n",
       "      <td>0</td>\n",
       "      <td>0</td>\n",
       "      <td>...</td>\n",
       "      <td>0</td>\n",
       "      <td>0</td>\n",
       "      <td>0</td>\n",
       "      <td>0</td>\n",
       "      <td>0</td>\n",
       "      <td>0</td>\n",
       "      <td>0</td>\n",
       "      <td>0</td>\n",
       "      <td>0</td>\n",
       "      <td>0</td>\n",
       "    </tr>\n",
       "    <tr>\n",
       "      <th>100834</th>\n",
       "      <td>193587</td>\n",
       "      <td>Bungo Stray Dogs: Dead Apple (2018)</td>\n",
       "      <td>[Action, Animation]</td>\n",
       "      <td>2018</td>\n",
       "      <td>184</td>\n",
       "      <td>3.5</td>\n",
       "      <td>1537110021</td>\n",
       "      <td>0</td>\n",
       "      <td>1</td>\n",
       "      <td>0</td>\n",
       "      <td>...</td>\n",
       "      <td>0</td>\n",
       "      <td>0</td>\n",
       "      <td>0</td>\n",
       "      <td>0</td>\n",
       "      <td>0</td>\n",
       "      <td>0</td>\n",
       "      <td>0</td>\n",
       "      <td>0</td>\n",
       "      <td>0</td>\n",
       "      <td>0</td>\n",
       "    </tr>\n",
       "    <tr>\n",
       "      <th>100835</th>\n",
       "      <td>193609</td>\n",
       "      <td>Andrew Dice Clay: Dice Rules (1991)</td>\n",
       "      <td>[Comedy]</td>\n",
       "      <td>1991</td>\n",
       "      <td>331</td>\n",
       "      <td>4.0</td>\n",
       "      <td>1537157606</td>\n",
       "      <td>0</td>\n",
       "      <td>0</td>\n",
       "      <td>0</td>\n",
       "      <td>...</td>\n",
       "      <td>0</td>\n",
       "      <td>0</td>\n",
       "      <td>0</td>\n",
       "      <td>0</td>\n",
       "      <td>0</td>\n",
       "      <td>0</td>\n",
       "      <td>0</td>\n",
       "      <td>0</td>\n",
       "      <td>0</td>\n",
       "      <td>0</td>\n",
       "    </tr>\n",
       "  </tbody>\n",
       "</table>\n",
       "<p>5 rows × 27 columns</p>\n",
       "</div>"
      ],
      "text/plain": [
       "        movieId                                      title   \n",
       "100831   193581  Black Butler: Book of the Atlantic (2017)  \\\n",
       "100832   193583               No Game No Life: Zero (2017)   \n",
       "100833   193585                               Flint (2017)   \n",
       "100834   193587        Bungo Stray Dogs: Dead Apple (2018)   \n",
       "100835   193609        Andrew Dice Clay: Dice Rules (1991)   \n",
       "\n",
       "                                      genres  year  userId  rating   \n",
       "100831  [Action, Animation, Comedy, Fantasy]  2017     184     4.0  \\\n",
       "100832          [Animation, Comedy, Fantasy]  2017     184     3.5   \n",
       "100833                               [Drama]  2017     184     3.5   \n",
       "100834                   [Action, Animation]  2018     184     3.5   \n",
       "100835                              [Comedy]  1991     331     4.0   \n",
       "\n",
       "         timestamp  (no genres listed)  Action  Adventure  ...  Film-Noir   \n",
       "100831  1537109082                   0       1          0  ...          0  \\\n",
       "100832  1537109545                   0       0          0  ...          0   \n",
       "100833  1537109805                   0       0          0  ...          0   \n",
       "100834  1537110021                   0       1          0  ...          0   \n",
       "100835  1537157606                   0       0          0  ...          0   \n",
       "\n",
       "        Horror  IMAX  Musical  Mystery  Romance  Sci-Fi  Thriller  War   \n",
       "100831       0     0        0        0        0       0         0    0  \\\n",
       "100832       0     0        0        0        0       0         0    0   \n",
       "100833       0     0        0        0        0       0         0    0   \n",
       "100834       0     0        0        0        0       0         0    0   \n",
       "100835       0     0        0        0        0       0         0    0   \n",
       "\n",
       "        Western  \n",
       "100831        0  \n",
       "100832        0  \n",
       "100833        0  \n",
       "100834        0  \n",
       "100835        0  \n",
       "\n",
       "[5 rows x 27 columns]"
      ]
     },
     "execution_count": 12,
     "metadata": {},
     "output_type": "execute_result"
    }
   ],
   "source": [
    "from sklearn.preprocessing import MultiLabelBinarizer\n",
    "\n",
    "# Encode with the MultiLabelBinarizer model\n",
    "mlb = MultiLabelBinarizer()\n",
    "binary_encoded_genres = mlb.fit_transform(movies['genres'])\n",
    "\n",
    "# Extract the genre names as a list\n",
    "genre_names = list(mlb.classes_)\n",
    "\n",
    "# Concatenate with our merged dataframe\n",
    "binary_encoded_df = pd.DataFrame(binary_encoded_genres, columns=genre_names)\n",
    "movies = pd.concat([movies, binary_encoded_df], axis=1)\n",
    "\n",
    "movies.tail()"
   ]
  },
  {
   "cell_type": "code",
   "execution_count": 13,
   "metadata": {},
   "outputs": [
    {
     "data": {
      "text/plain": [
       "count    100836.000000\n",
       "mean          3.501557\n",
       "std           1.042529\n",
       "min           0.500000\n",
       "25%           3.000000\n",
       "50%           3.500000\n",
       "75%           4.000000\n",
       "max           5.000000\n",
       "Name: rating, dtype: float64"
      ]
     },
     "execution_count": 13,
     "metadata": {},
     "output_type": "execute_result"
    }
   ],
   "source": [
    "movies['rating'].describe()"
   ]
  },
  {
   "cell_type": "markdown",
   "metadata": {},
   "source": [
    "Based on the `.describe()` method, the rating appears to be **between 0.5 and 5.0**.\n",
    "\n",
    "Now, another factor to explore before completing data analyses is if there is a catch-all genre category for unknown genres for movies that did not get assigned to a specific genre."
   ]
  },
  {
   "cell_type": "code",
   "execution_count": 14,
   "metadata": {},
   "outputs": [
    {
     "data": {
      "text/plain": [
       "(no genres listed)\n",
       "0    100789\n",
       "1        47\n",
       "Name: count, dtype: int64"
      ]
     },
     "execution_count": 14,
     "metadata": {},
     "output_type": "execute_result"
    }
   ],
   "source": [
    "movies['(no genres listed)'].value_counts()"
   ]
  },
  {
   "cell_type": "markdown",
   "metadata": {},
   "source": [
    "There seems to be 47 movie rating entries with `no genres listed` out of more than 100k entries. Since this number is very miniscule, we decide to remove rating with the `no genres listed`."
   ]
  },
  {
   "cell_type": "code",
   "execution_count": 15,
   "metadata": {},
   "outputs": [
    {
     "data": {
      "text/html": [
       "<div>\n",
       "<style scoped>\n",
       "    .dataframe tbody tr th:only-of-type {\n",
       "        vertical-align: middle;\n",
       "    }\n",
       "\n",
       "    .dataframe tbody tr th {\n",
       "        vertical-align: top;\n",
       "    }\n",
       "\n",
       "    .dataframe thead th {\n",
       "        text-align: right;\n",
       "    }\n",
       "</style>\n",
       "<table border=\"1\" class=\"dataframe\">\n",
       "  <thead>\n",
       "    <tr style=\"text-align: right;\">\n",
       "      <th></th>\n",
       "      <th>movieId</th>\n",
       "      <th>title</th>\n",
       "      <th>genres</th>\n",
       "      <th>year</th>\n",
       "      <th>userId</th>\n",
       "      <th>rating</th>\n",
       "      <th>timestamp</th>\n",
       "      <th>(no genres listed)</th>\n",
       "      <th>Action</th>\n",
       "      <th>Adventure</th>\n",
       "      <th>...</th>\n",
       "      <th>Film-Noir</th>\n",
       "      <th>Horror</th>\n",
       "      <th>IMAX</th>\n",
       "      <th>Musical</th>\n",
       "      <th>Mystery</th>\n",
       "      <th>Romance</th>\n",
       "      <th>Sci-Fi</th>\n",
       "      <th>Thriller</th>\n",
       "      <th>War</th>\n",
       "      <th>Western</th>\n",
       "    </tr>\n",
       "  </thead>\n",
       "  <tbody>\n",
       "    <tr>\n",
       "      <th>0</th>\n",
       "      <td>1</td>\n",
       "      <td>Toy Story (1995)</td>\n",
       "      <td>[Adventure, Animation, Children, Comedy, Fantasy]</td>\n",
       "      <td>1995</td>\n",
       "      <td>1</td>\n",
       "      <td>4.0</td>\n",
       "      <td>964982703</td>\n",
       "      <td>0</td>\n",
       "      <td>0</td>\n",
       "      <td>1</td>\n",
       "      <td>...</td>\n",
       "      <td>0</td>\n",
       "      <td>0</td>\n",
       "      <td>0</td>\n",
       "      <td>0</td>\n",
       "      <td>0</td>\n",
       "      <td>0</td>\n",
       "      <td>0</td>\n",
       "      <td>0</td>\n",
       "      <td>0</td>\n",
       "      <td>0</td>\n",
       "    </tr>\n",
       "    <tr>\n",
       "      <th>1</th>\n",
       "      <td>1</td>\n",
       "      <td>Toy Story (1995)</td>\n",
       "      <td>[Adventure, Animation, Children, Comedy, Fantasy]</td>\n",
       "      <td>1995</td>\n",
       "      <td>5</td>\n",
       "      <td>4.0</td>\n",
       "      <td>847434962</td>\n",
       "      <td>0</td>\n",
       "      <td>0</td>\n",
       "      <td>1</td>\n",
       "      <td>...</td>\n",
       "      <td>0</td>\n",
       "      <td>0</td>\n",
       "      <td>0</td>\n",
       "      <td>0</td>\n",
       "      <td>0</td>\n",
       "      <td>0</td>\n",
       "      <td>0</td>\n",
       "      <td>0</td>\n",
       "      <td>0</td>\n",
       "      <td>0</td>\n",
       "    </tr>\n",
       "    <tr>\n",
       "      <th>2</th>\n",
       "      <td>1</td>\n",
       "      <td>Toy Story (1995)</td>\n",
       "      <td>[Adventure, Animation, Children, Comedy, Fantasy]</td>\n",
       "      <td>1995</td>\n",
       "      <td>7</td>\n",
       "      <td>4.5</td>\n",
       "      <td>1106635946</td>\n",
       "      <td>0</td>\n",
       "      <td>0</td>\n",
       "      <td>1</td>\n",
       "      <td>...</td>\n",
       "      <td>0</td>\n",
       "      <td>0</td>\n",
       "      <td>0</td>\n",
       "      <td>0</td>\n",
       "      <td>0</td>\n",
       "      <td>0</td>\n",
       "      <td>0</td>\n",
       "      <td>0</td>\n",
       "      <td>0</td>\n",
       "      <td>0</td>\n",
       "    </tr>\n",
       "    <tr>\n",
       "      <th>3</th>\n",
       "      <td>1</td>\n",
       "      <td>Toy Story (1995)</td>\n",
       "      <td>[Adventure, Animation, Children, Comedy, Fantasy]</td>\n",
       "      <td>1995</td>\n",
       "      <td>15</td>\n",
       "      <td>2.5</td>\n",
       "      <td>1510577970</td>\n",
       "      <td>0</td>\n",
       "      <td>0</td>\n",
       "      <td>1</td>\n",
       "      <td>...</td>\n",
       "      <td>0</td>\n",
       "      <td>0</td>\n",
       "      <td>0</td>\n",
       "      <td>0</td>\n",
       "      <td>0</td>\n",
       "      <td>0</td>\n",
       "      <td>0</td>\n",
       "      <td>0</td>\n",
       "      <td>0</td>\n",
       "      <td>0</td>\n",
       "    </tr>\n",
       "    <tr>\n",
       "      <th>4</th>\n",
       "      <td>1</td>\n",
       "      <td>Toy Story (1995)</td>\n",
       "      <td>[Adventure, Animation, Children, Comedy, Fantasy]</td>\n",
       "      <td>1995</td>\n",
       "      <td>17</td>\n",
       "      <td>4.5</td>\n",
       "      <td>1305696483</td>\n",
       "      <td>0</td>\n",
       "      <td>0</td>\n",
       "      <td>1</td>\n",
       "      <td>...</td>\n",
       "      <td>0</td>\n",
       "      <td>0</td>\n",
       "      <td>0</td>\n",
       "      <td>0</td>\n",
       "      <td>0</td>\n",
       "      <td>0</td>\n",
       "      <td>0</td>\n",
       "      <td>0</td>\n",
       "      <td>0</td>\n",
       "      <td>0</td>\n",
       "    </tr>\n",
       "  </tbody>\n",
       "</table>\n",
       "<p>5 rows × 27 columns</p>\n",
       "</div>"
      ],
      "text/plain": [
       "   movieId             title   \n",
       "0        1  Toy Story (1995)  \\\n",
       "1        1  Toy Story (1995)   \n",
       "2        1  Toy Story (1995)   \n",
       "3        1  Toy Story (1995)   \n",
       "4        1  Toy Story (1995)   \n",
       "\n",
       "                                              genres  year  userId  rating   \n",
       "0  [Adventure, Animation, Children, Comedy, Fantasy]  1995       1     4.0  \\\n",
       "1  [Adventure, Animation, Children, Comedy, Fantasy]  1995       5     4.0   \n",
       "2  [Adventure, Animation, Children, Comedy, Fantasy]  1995       7     4.5   \n",
       "3  [Adventure, Animation, Children, Comedy, Fantasy]  1995      15     2.5   \n",
       "4  [Adventure, Animation, Children, Comedy, Fantasy]  1995      17     4.5   \n",
       "\n",
       "    timestamp  (no genres listed)  Action  Adventure  ...  Film-Noir  Horror   \n",
       "0   964982703                   0       0          1  ...          0       0  \\\n",
       "1   847434962                   0       0          1  ...          0       0   \n",
       "2  1106635946                   0       0          1  ...          0       0   \n",
       "3  1510577970                   0       0          1  ...          0       0   \n",
       "4  1305696483                   0       0          1  ...          0       0   \n",
       "\n",
       "   IMAX  Musical  Mystery  Romance  Sci-Fi  Thriller  War  Western  \n",
       "0     0        0        0        0       0         0    0        0  \n",
       "1     0        0        0        0       0         0    0        0  \n",
       "2     0        0        0        0       0         0    0        0  \n",
       "3     0        0        0        0       0         0    0        0  \n",
       "4     0        0        0        0       0         0    0        0  \n",
       "\n",
       "[5 rows x 27 columns]"
      ]
     },
     "execution_count": 15,
     "metadata": {},
     "output_type": "execute_result"
    }
   ],
   "source": [
    "genre_names.remove('(no genres listed)')\n",
    "movies = movies.loc[movies['(no genres listed)'] == 0]\n",
    "movies.head()"
   ]
  },
  {
   "cell_type": "markdown",
   "metadata": {},
   "source": [
    "## Exploratory Data Analysis (EDA)"
   ]
  },
  {
   "cell_type": "markdown",
   "metadata": {},
   "source": [
    "### 1. Release year counts\n",
    "\n",
    "Here, we want to explore how many movie ratings are present in the dataset across movie release years. First, we explore entries that have `0` as `year`. This may include movies that did not specify the release year in the title."
   ]
  },
  {
   "cell_type": "code",
   "execution_count": 16,
   "metadata": {
    "collapsed": true
   },
   "outputs": [
    {
     "data": {
      "text/html": [
       "<div>\n",
       "<style scoped>\n",
       "    .dataframe tbody tr th:only-of-type {\n",
       "        vertical-align: middle;\n",
       "    }\n",
       "\n",
       "    .dataframe tbody tr th {\n",
       "        vertical-align: top;\n",
       "    }\n",
       "\n",
       "    .dataframe thead th {\n",
       "        text-align: right;\n",
       "    }\n",
       "</style>\n",
       "<table border=\"1\" class=\"dataframe\">\n",
       "  <thead>\n",
       "    <tr style=\"text-align: right;\">\n",
       "      <th></th>\n",
       "      <th>movieId</th>\n",
       "      <th>title</th>\n",
       "      <th>genres</th>\n",
       "      <th>year</th>\n",
       "      <th>userId</th>\n",
       "      <th>rating</th>\n",
       "      <th>timestamp</th>\n",
       "      <th>(no genres listed)</th>\n",
       "      <th>Action</th>\n",
       "      <th>Adventure</th>\n",
       "      <th>...</th>\n",
       "      <th>Film-Noir</th>\n",
       "      <th>Horror</th>\n",
       "      <th>IMAX</th>\n",
       "      <th>Musical</th>\n",
       "      <th>Mystery</th>\n",
       "      <th>Romance</th>\n",
       "      <th>Sci-Fi</th>\n",
       "      <th>Thriller</th>\n",
       "      <th>War</th>\n",
       "      <th>Western</th>\n",
       "    </tr>\n",
       "  </thead>\n",
       "  <tbody>\n",
       "    <tr>\n",
       "      <th>81292</th>\n",
       "      <td>40697</td>\n",
       "      <td>Babylon 5</td>\n",
       "      <td>[Sci-Fi]</td>\n",
       "      <td>0</td>\n",
       "      <td>210</td>\n",
       "      <td>4.0</td>\n",
       "      <td>1527266191</td>\n",
       "      <td>0</td>\n",
       "      <td>0</td>\n",
       "      <td>0</td>\n",
       "      <td>...</td>\n",
       "      <td>0</td>\n",
       "      <td>0</td>\n",
       "      <td>0</td>\n",
       "      <td>0</td>\n",
       "      <td>0</td>\n",
       "      <td>0</td>\n",
       "      <td>1</td>\n",
       "      <td>0</td>\n",
       "      <td>0</td>\n",
       "      <td>0</td>\n",
       "    </tr>\n",
       "    <tr>\n",
       "      <th>81293</th>\n",
       "      <td>40697</td>\n",
       "      <td>Babylon 5</td>\n",
       "      <td>[Sci-Fi]</td>\n",
       "      <td>0</td>\n",
       "      <td>528</td>\n",
       "      <td>0.5</td>\n",
       "      <td>1391736467</td>\n",
       "      <td>0</td>\n",
       "      <td>0</td>\n",
       "      <td>0</td>\n",
       "      <td>...</td>\n",
       "      <td>0</td>\n",
       "      <td>0</td>\n",
       "      <td>0</td>\n",
       "      <td>0</td>\n",
       "      <td>0</td>\n",
       "      <td>0</td>\n",
       "      <td>1</td>\n",
       "      <td>0</td>\n",
       "      <td>0</td>\n",
       "      <td>0</td>\n",
       "    </tr>\n",
       "    <tr>\n",
       "      <th>99325</th>\n",
       "      <td>140956</td>\n",
       "      <td>Ready Player One</td>\n",
       "      <td>[Action, Sci-Fi, Thriller]</td>\n",
       "      <td>0</td>\n",
       "      <td>209</td>\n",
       "      <td>3.5</td>\n",
       "      <td>1524522239</td>\n",
       "      <td>0</td>\n",
       "      <td>1</td>\n",
       "      <td>0</td>\n",
       "      <td>...</td>\n",
       "      <td>0</td>\n",
       "      <td>0</td>\n",
       "      <td>0</td>\n",
       "      <td>0</td>\n",
       "      <td>0</td>\n",
       "      <td>0</td>\n",
       "      <td>1</td>\n",
       "      <td>1</td>\n",
       "      <td>0</td>\n",
       "      <td>0</td>\n",
       "    </tr>\n",
       "    <tr>\n",
       "      <th>99326</th>\n",
       "      <td>140956</td>\n",
       "      <td>Ready Player One</td>\n",
       "      <td>[Action, Sci-Fi, Thriller]</td>\n",
       "      <td>0</td>\n",
       "      <td>305</td>\n",
       "      <td>4.5</td>\n",
       "      <td>1533043577</td>\n",
       "      <td>0</td>\n",
       "      <td>1</td>\n",
       "      <td>0</td>\n",
       "      <td>...</td>\n",
       "      <td>0</td>\n",
       "      <td>0</td>\n",
       "      <td>0</td>\n",
       "      <td>0</td>\n",
       "      <td>0</td>\n",
       "      <td>0</td>\n",
       "      <td>1</td>\n",
       "      <td>1</td>\n",
       "      <td>0</td>\n",
       "      <td>0</td>\n",
       "    </tr>\n",
       "    <tr>\n",
       "      <th>99327</th>\n",
       "      <td>140956</td>\n",
       "      <td>Ready Player One</td>\n",
       "      <td>[Action, Sci-Fi, Thriller]</td>\n",
       "      <td>0</td>\n",
       "      <td>380</td>\n",
       "      <td>3.0</td>\n",
       "      <td>1534176158</td>\n",
       "      <td>0</td>\n",
       "      <td>1</td>\n",
       "      <td>0</td>\n",
       "      <td>...</td>\n",
       "      <td>0</td>\n",
       "      <td>0</td>\n",
       "      <td>0</td>\n",
       "      <td>0</td>\n",
       "      <td>0</td>\n",
       "      <td>0</td>\n",
       "      <td>1</td>\n",
       "      <td>1</td>\n",
       "      <td>0</td>\n",
       "      <td>0</td>\n",
       "    </tr>\n",
       "    <tr>\n",
       "      <th>99328</th>\n",
       "      <td>140956</td>\n",
       "      <td>Ready Player One</td>\n",
       "      <td>[Action, Sci-Fi, Thriller]</td>\n",
       "      <td>0</td>\n",
       "      <td>514</td>\n",
       "      <td>3.0</td>\n",
       "      <td>1533946119</td>\n",
       "      <td>0</td>\n",
       "      <td>1</td>\n",
       "      <td>0</td>\n",
       "      <td>...</td>\n",
       "      <td>0</td>\n",
       "      <td>0</td>\n",
       "      <td>0</td>\n",
       "      <td>0</td>\n",
       "      <td>0</td>\n",
       "      <td>0</td>\n",
       "      <td>1</td>\n",
       "      <td>1</td>\n",
       "      <td>0</td>\n",
       "      <td>0</td>\n",
       "    </tr>\n",
       "    <tr>\n",
       "      <th>99617</th>\n",
       "      <td>149334</td>\n",
       "      <td>Nocturnal Animals</td>\n",
       "      <td>[Drama, Thriller]</td>\n",
       "      <td>0</td>\n",
       "      <td>306</td>\n",
       "      <td>3.0</td>\n",
       "      <td>1518380372</td>\n",
       "      <td>0</td>\n",
       "      <td>0</td>\n",
       "      <td>0</td>\n",
       "      <td>...</td>\n",
       "      <td>0</td>\n",
       "      <td>0</td>\n",
       "      <td>0</td>\n",
       "      <td>0</td>\n",
       "      <td>0</td>\n",
       "      <td>0</td>\n",
       "      <td>0</td>\n",
       "      <td>1</td>\n",
       "      <td>0</td>\n",
       "      <td>0</td>\n",
       "    </tr>\n",
       "    <tr>\n",
       "      <th>100051</th>\n",
       "      <td>162414</td>\n",
       "      <td>Moonlight</td>\n",
       "      <td>[Drama]</td>\n",
       "      <td>0</td>\n",
       "      <td>462</td>\n",
       "      <td>5.0</td>\n",
       "      <td>1478489531</td>\n",
       "      <td>0</td>\n",
       "      <td>0</td>\n",
       "      <td>0</td>\n",
       "      <td>...</td>\n",
       "      <td>0</td>\n",
       "      <td>0</td>\n",
       "      <td>0</td>\n",
       "      <td>0</td>\n",
       "      <td>0</td>\n",
       "      <td>0</td>\n",
       "      <td>0</td>\n",
       "      <td>0</td>\n",
       "      <td>0</td>\n",
       "      <td>0</td>\n",
       "    </tr>\n",
       "  </tbody>\n",
       "</table>\n",
       "<p>8 rows × 27 columns</p>\n",
       "</div>"
      ],
      "text/plain": [
       "        movieId              title                      genres  year  userId   \n",
       "81292     40697          Babylon 5                    [Sci-Fi]     0     210  \\\n",
       "81293     40697          Babylon 5                    [Sci-Fi]     0     528   \n",
       "99325    140956   Ready Player One  [Action, Sci-Fi, Thriller]     0     209   \n",
       "99326    140956   Ready Player One  [Action, Sci-Fi, Thriller]     0     305   \n",
       "99327    140956   Ready Player One  [Action, Sci-Fi, Thriller]     0     380   \n",
       "99328    140956   Ready Player One  [Action, Sci-Fi, Thriller]     0     514   \n",
       "99617    149334  Nocturnal Animals           [Drama, Thriller]     0     306   \n",
       "100051   162414          Moonlight                     [Drama]     0     462   \n",
       "\n",
       "        rating   timestamp  (no genres listed)  Action  Adventure  ...   \n",
       "81292      4.0  1527266191                   0       0          0  ...  \\\n",
       "81293      0.5  1391736467                   0       0          0  ...   \n",
       "99325      3.5  1524522239                   0       1          0  ...   \n",
       "99326      4.5  1533043577                   0       1          0  ...   \n",
       "99327      3.0  1534176158                   0       1          0  ...   \n",
       "99328      3.0  1533946119                   0       1          0  ...   \n",
       "99617      3.0  1518380372                   0       0          0  ...   \n",
       "100051     5.0  1478489531                   0       0          0  ...   \n",
       "\n",
       "        Film-Noir  Horror  IMAX  Musical  Mystery  Romance  Sci-Fi  Thriller   \n",
       "81292           0       0     0        0        0        0       1         0  \\\n",
       "81293           0       0     0        0        0        0       1         0   \n",
       "99325           0       0     0        0        0        0       1         1   \n",
       "99326           0       0     0        0        0        0       1         1   \n",
       "99327           0       0     0        0        0        0       1         1   \n",
       "99328           0       0     0        0        0        0       1         1   \n",
       "99617           0       0     0        0        0        0       0         1   \n",
       "100051          0       0     0        0        0        0       0         0   \n",
       "\n",
       "        War  Western  \n",
       "81292     0        0  \n",
       "81293     0        0  \n",
       "99325     0        0  \n",
       "99326     0        0  \n",
       "99327     0        0  \n",
       "99328     0        0  \n",
       "99617     0        0  \n",
       "100051    0        0  \n",
       "\n",
       "[8 rows x 27 columns]"
      ]
     },
     "execution_count": 16,
     "metadata": {},
     "output_type": "execute_result"
    }
   ],
   "source": [
    "# Movies with undefined release year\n",
    "movies.loc[movies['year'] == 0]"
   ]
  },
  {
   "cell_type": "markdown",
   "metadata": {},
   "source": [
    "Then, we plot a line graph representing the number of movie ratings from 1960 to 2018, since the movies released during this time-period are more relevant to our movie streaming platform as movie recommendations."
   ]
  },
  {
   "cell_type": "code",
   "execution_count": 17,
   "metadata": {},
   "outputs": [
    {
     "data": {
      "text/plain": [
       "Text(0, 0.5, 'Number of Movie Ratings')"
      ]
     },
     "execution_count": 17,
     "metadata": {},
     "output_type": "execute_result"
    },
    {
     "data": {
      "image/png": "[encoded data removed]",
      "text/plain": [
       "<Figure size 1000x500 with 1 Axes>"
      ]
     },
     "metadata": {},
     "output_type": "display_data"
    }
   ],
   "source": [
    "# Line graph of number of movies per eyar from 1960 to 2018\n",
    "grouped_year = movies.loc[movies['year'] >= 1960].groupby(\"year\")\n",
    "year_counts = dict(grouped_year['movieId'].count())\n",
    "\n",
    "fig, ax = plt.subplots(figsize=(10,5))\n",
    "x = year_counts.keys()\n",
    "y = year_counts.values()\n",
    "ax.plot(x, y)\n",
    "ax.set_title(\"Number of Movie Ratings from 1960 to 2018\")\n",
    "ax.set_xlabel(\"Year\")\n",
    "ax.set_ylabel(\"Number of Movie Ratings\")"
   ]
  },
  {
   "cell_type": "markdown",
   "metadata": {},
   "source": [
    "**Interpretation**: most of movie ratings are focusing on movies released between 1980s and early 2000s. Please note that these numbers are referring to the number of movies. The numbers are representing movie rating entries, which may include duplicates of movies, rated by different users."
   ]
  },
  {
   "cell_type": "markdown",
   "metadata": {},
   "source": [
    "### 2. Number of movie ratings and median ratings per genre\n",
    "\n",
    "Since we aim to provide a genre-driven movie recommendations to the new users, we want to explore the data based on different genres. Here, we explore the number of movie ratings per genre, and distribution of movie ratings."
   ]
  },
  {
   "cell_type": "code",
   "execution_count": 18,
   "metadata": {
    "collapsed": true
   },
   "outputs": [
    {
     "data": {
      "text/plain": [
       "{'Action': 30635,\n",
       " 'Adventure': 24161,\n",
       " 'Animation': 6988,\n",
       " 'Children': 9208,\n",
       " 'Comedy': 39053,\n",
       " 'Crime': 16681,\n",
       " 'Documentary': 1219,\n",
       " 'Drama': 41928,\n",
       " 'Fantasy': 11834,\n",
       " 'Film-Noir': 870,\n",
       " 'Horror': 7291,\n",
       " 'IMAX': 4145,\n",
       " 'Musical': 4138,\n",
       " 'Mystery': 7674,\n",
       " 'Romance': 18124,\n",
       " 'Sci-Fi': 17243,\n",
       " 'Thriller': 26452,\n",
       " 'War': 4859,\n",
       " 'Western': 1930}"
      ]
     },
     "execution_count": 18,
     "metadata": {},
     "output_type": "execute_result"
    }
   ],
   "source": [
    "# Counts of ratings per each genre\n",
    "genre_count = {}\n",
    "for genre in genre_names:\n",
    "    genre_count[genre] = len(movies.loc[movies[genre] == 1])\n",
    "\n",
    "genre_count"
   ]
  },
  {
   "cell_type": "code",
   "execution_count": 19,
   "metadata": {},
   "outputs": [
    {
     "data": {
      "text/plain": [
       "['Drama', 'Comedy', 'Action', 'Thriller', 'Adventure', 'Romance']"
      ]
     },
     "execution_count": 19,
     "metadata": {},
     "output_type": "execute_result"
    }
   ],
   "source": [
    "# 5 most reviewed movies\n",
    "top_5_genres = [genre[0] for genre in sorted(genre_count.items(), key=lambda x: x[1], reverse=True)[:6]]\n",
    "top_5_genres"
   ]
  },
  {
   "cell_type": "code",
   "execution_count": 20,
   "metadata": {},
   "outputs": [
    {
     "data": {
      "text/plain": [
       "Text(0.5, 0.01, 'Rating')"
      ]
     },
     "execution_count": 20,
     "metadata": {},
     "output_type": "execute_result"
    },
    {
     "data": {
      "image/png": "[encoded data removed]",
      "text/plain": [
       "<Figure size 2000x600 with 5 Axes>"
      ]
     },
     "metadata": {},
     "output_type": "display_data"
    }
   ],
   "source": [
    "# Rating distribution of top 5 movie genres\n",
    "fig, axes = plt.subplots(1,5, figsize=(20,6))\n",
    "\n",
    "for i in range(5):\n",
    "    genre = top_5_genres[i]\n",
    "    axes[i].hist(movies.loc[movies[genre] == 1]['rating'])\n",
    "    axes[i].set_title(genre)\n",
    "\n",
    "fig.suptitle(\"Rating Distribution for Top 5 Movie Genres\")\n",
    "fig.supxlabel(\"Rating\")\n"
   ]
  },
  {
   "cell_type": "code",
   "execution_count": 21,
   "metadata": {
    "collapsed": true
   },
   "outputs": [
    {
     "name": "stdout",
     "output_type": "stream",
     "text": [
      "Median rating of Action: 3.5\n",
      "Median rating of Adventure: 3.5\n",
      "Median rating of Animation: 4.0\n",
      "Median rating of Children: 3.5\n",
      "Median rating of Comedy: 3.5\n",
      "Median rating of Crime: 4.0\n",
      "Median rating of Documentary: 4.0\n",
      "Median rating of Drama: 4.0\n",
      "Median rating of Fantasy: 3.5\n",
      "Median rating of Film-Noir: 4.0\n",
      "Median rating of Horror: 3.5\n",
      "Median rating of IMAX: 4.0\n",
      "Median rating of Musical: 3.5\n",
      "Median rating of Mystery: 4.0\n",
      "Median rating of Romance: 3.5\n",
      "Median rating of Sci-Fi: 3.5\n",
      "Median rating of Thriller: 3.5\n",
      "Median rating of War: 4.0\n",
      "Median rating of Western: 4.0\n"
     ]
    }
   ],
   "source": [
    "# Median ratings\n",
    "for genre in genre_names:\n",
    "    print(f\"Median rating of {genre}: {movies.loc[movies[genre] == 1]['rating'].median()}\")"
   ]
  },
  {
   "cell_type": "markdown",
   "metadata": {},
   "source": [
    "**Intrepreation**: ratings for each genre tends to be skewed slightly, and the median rating is between 3.5 and 4.0 regardless of the genre."
   ]
  },
  {
   "cell_type": "markdown",
   "metadata": {},
   "source": [
    "### 3. Top 20 most rated movies\n",
    "\n",
    "Regardless of the genre, some movies will be more popular than others. Here, we aim to identify some most popular movies, by examining number of rating entries for the given movie."
   ]
  },
  {
   "cell_type": "code",
   "execution_count": 22,
   "metadata": {},
   "outputs": [
    {
     "data": {
      "image/png": "[encoded data removed]",
      "text/plain": [
       "<Figure size 1000x600 with 1 Axes>"
      ]
     },
     "metadata": {},
     "output_type": "display_data"
    }
   ],
   "source": [
    "# Bar graph on top 20 most rated movies and number of ratings\n",
    "rating_counts = movies.groupby('title')['rating'].count()\n",
    "plt.figure(figsize=(10, 6))\n",
    "rating_counts.sort_values(ascending=False).head(20).plot(kind='bar')\n",
    "plt.xlabel('Movie')\n",
    "plt.ylabel('Number of Ratings')\n",
    "plt.title('Top 20 Most Rated Movies')\n",
    "plt.xticks(rotation=45, ha='right')\n",
    "plt.show()"
   ]
  },
  {
   "cell_type": "markdown",
   "metadata": {},
   "source": [
    "**Interpretation**: looking at the list of top 20 most rated movies, they are mainly between 1980s and 2000s."
   ]
  },
  {
   "cell_type": "markdown",
   "metadata": {},
   "source": [
    "### 4. Superusers per genre\n",
    "\n",
    "Lastly, we want to examine our superusers in our data set to determine if we should keep them in the data for the movie recommendation system, or remove them. We determine the superusers by looking at the number of rating provided per user Id, and examine if these ratings exceed a certain threshold percentage of a specific genre. The threshold we used to determine the sueruser of a given genre is **90%**."
   ]
  },
  {
   "cell_type": "code",
   "execution_count": 23,
   "metadata": {},
   "outputs": [
    {
     "data": {
      "text/html": [
       "<div>\n",
       "<style scoped>\n",
       "    .dataframe tbody tr th:only-of-type {\n",
       "        vertical-align: middle;\n",
       "    }\n",
       "\n",
       "    .dataframe tbody tr th {\n",
       "        vertical-align: top;\n",
       "    }\n",
       "\n",
       "    .dataframe thead th {\n",
       "        text-align: right;\n",
       "    }\n",
       "</style>\n",
       "<table border=\"1\" class=\"dataframe\">\n",
       "  <thead>\n",
       "    <tr style=\"text-align: right;\">\n",
       "      <th></th>\n",
       "      <th>userId</th>\n",
       "      <th>ratings_count</th>\n",
       "    </tr>\n",
       "  </thead>\n",
       "  <tbody>\n",
       "    <tr>\n",
       "      <th>0</th>\n",
       "      <td>414</td>\n",
       "      <td>2696</td>\n",
       "    </tr>\n",
       "    <tr>\n",
       "      <th>1</th>\n",
       "      <td>599</td>\n",
       "      <td>2474</td>\n",
       "    </tr>\n",
       "    <tr>\n",
       "      <th>2</th>\n",
       "      <td>474</td>\n",
       "      <td>2108</td>\n",
       "    </tr>\n",
       "    <tr>\n",
       "      <th>3</th>\n",
       "      <td>448</td>\n",
       "      <td>1862</td>\n",
       "    </tr>\n",
       "    <tr>\n",
       "      <th>4</th>\n",
       "      <td>274</td>\n",
       "      <td>1346</td>\n",
       "    </tr>\n",
       "  </tbody>\n",
       "</table>\n",
       "</div>"
      ],
      "text/plain": [
       "   userId  ratings_count\n",
       "0     414           2696\n",
       "1     599           2474\n",
       "2     474           2108\n",
       "3     448           1862\n",
       "4     274           1346"
      ]
     },
     "execution_count": 23,
     "metadata": {},
     "output_type": "execute_result"
    }
   ],
   "source": [
    "# Number of ratings per user Id\n",
    "user_ratings_count = movies['userId'].value_counts().reset_index()\n",
    "user_ratings_count.columns = ['userId', 'ratings_count']\n",
    "user_ratings_count = user_ratings_count.sort_values(by = 'ratings_count', ascending=False)\n",
    "\n",
    "user_ratings_count.head()"
   ]
  },
  {
   "cell_type": "code",
   "execution_count": 24,
   "metadata": {},
   "outputs": [
    {
     "data": {
      "image/png": "[encoded data removed]",
      "text/plain": [
       "<Figure size 1200x600 with 1 Axes>"
      ]
     },
     "metadata": {},
     "output_type": "display_data"
    }
   ],
   "source": [
    "# Plot distribution of ratings per user\n",
    "plt.figure(figsize=(12,6))\n",
    "bin_width=250\n",
    "bins=range(0, user_ratings_count['ratings_count'].max() + bin_width, bin_width)\n",
    "plt.hist(user_ratings_count['ratings_count'], bins=bins, color='skyblue', edgecolor='black')\n",
    "plt.xticks(bins)\n",
    "plt.xlabel('Number of Ratings per User')\n",
    "plt.ylabel('Frequency')\n",
    "plt.title('Distribution of Ratings per User')\n",
    "plt.grid(True)\n",
    "plt.show()"
   ]
  },
  {
   "cell_type": "code",
   "execution_count": 25,
   "metadata": {
    "collapsed": true
   },
   "outputs": [
    {
     "data": {
      "text/plain": [
       "{'Action': [],\n",
       " 'Adventure': [],\n",
       " 'Animation': [],\n",
       " 'Children': [],\n",
       " 'Comedy': [89, 564],\n",
       " 'Crime': [],\n",
       " 'Documentary': [],\n",
       " 'Drama': [162],\n",
       " 'Fantasy': [],\n",
       " 'Film-Noir': [],\n",
       " 'Horror': [571],\n",
       " 'IMAX': [],\n",
       " 'Musical': [],\n",
       " 'Mystery': [],\n",
       " 'Romance': [],\n",
       " 'Sci-Fi': [149],\n",
       " 'Thriller': [297],\n",
       " 'War': [],\n",
       " 'Western': []}"
      ]
     },
     "execution_count": 25,
     "metadata": {},
     "output_type": "execute_result"
    }
   ],
   "source": [
    "# Superusers with threshold percentage of 90 in each genre\n",
    "user_movie_count = movies.groupby('userId')['movieId'].count().reset_index()\n",
    "user_movie_count.rename(columns={'movieId': 'total_movies_rated'}, inplace=True)\n",
    "\n",
    "user_genre_count = movies.groupby('userId')[genre_names].sum().reset_index()\n",
    "\n",
    "superusers = {}\n",
    "threshold_percentage = 90\n",
    "\n",
    "for genre in genre_names:\n",
    "    user_genre_count[f'{genre}_percentage'] = (user_genre_count[genre] / user_movie_count['total_movies_rated']) * 100\n",
    "    superusers[genre] = user_genre_count[user_genre_count[f'{genre}_percentage'] >= threshold_percentage]['userId'].tolist()\n",
    "\n",
    "superusers"
   ]
  },
  {
   "cell_type": "markdown",
   "metadata": {},
   "source": [
    "**Interpretation**: There are some superusers that provided over 90% of movie ratings for a specific genre.\n",
    "\n",
    "While these superusers can highly influence how our movie recommendation system evaluate each genre, we decide to keep them in the data for the recommendation system because the data set we have currently is rather too small. If we remove the superusers from the data, it would result in excluding several genres completely from the recommendation system. Until our start-up movie streaming platform can gather more information from users, we are keeping the superusers in the data."
   ]
  },
  {
   "cell_type": "markdown",
   "metadata": {},
   "source": [
    "##  Feature Engineering Continued\n",
    "### 4. Genre preference of individual users to recommend movies to a new user only with genre preference"
   ]
  },
  {
   "cell_type": "markdown",
   "metadata": {},
   "source": [
    "Since our business problem is genre-driven, we want to see genre preference of individual users. We create a separate dataframe with each user as an entry, and all genres as variables via [Binarizer](https://scikit-learn.org/stable/modules/generated/sklearn.preprocessing.Binarizer.html). We calculate the median ratings for each genre from individual users. The **threshold** of preference is set as **4.0**, which means that the genre preference is considered when the median rating for a given genre is higher than 4.0. **1** from the final dataframe `genre_pref_df` represents genre preference."
   ]
  },
  {
   "cell_type": "code",
   "execution_count": 26,
   "metadata": {},
   "outputs": [
    {
     "data": {
      "text/html": [
       "<div>\n",
       "<style scoped>\n",
       "    .dataframe tbody tr th:only-of-type {\n",
       "        vertical-align: middle;\n",
       "    }\n",
       "\n",
       "    .dataframe tbody tr th {\n",
       "        vertical-align: top;\n",
       "    }\n",
       "\n",
       "    .dataframe thead th {\n",
       "        text-align: right;\n",
       "    }\n",
       "</style>\n",
       "<table border=\"1\" class=\"dataframe\">\n",
       "  <thead>\n",
       "    <tr style=\"text-align: right;\">\n",
       "      <th></th>\n",
       "      <th>userId</th>\n",
       "      <th>Action</th>\n",
       "      <th>Adventure</th>\n",
       "      <th>Animation</th>\n",
       "      <th>Children</th>\n",
       "      <th>Comedy</th>\n",
       "      <th>Crime</th>\n",
       "      <th>Documentary</th>\n",
       "      <th>Drama</th>\n",
       "      <th>Fantasy</th>\n",
       "      <th>Film-Noir</th>\n",
       "      <th>Horror</th>\n",
       "      <th>IMAX</th>\n",
       "      <th>Musical</th>\n",
       "      <th>Mystery</th>\n",
       "      <th>Romance</th>\n",
       "      <th>Sci-Fi</th>\n",
       "      <th>Thriller</th>\n",
       "      <th>War</th>\n",
       "      <th>Western</th>\n",
       "    </tr>\n",
       "  </thead>\n",
       "  <tbody>\n",
       "    <tr>\n",
       "      <th>0</th>\n",
       "      <td>1</td>\n",
       "      <td>4.0</td>\n",
       "      <td>5.0</td>\n",
       "      <td>5.0</td>\n",
       "      <td>5.0</td>\n",
       "      <td>4.0</td>\n",
       "      <td>5.0</td>\n",
       "      <td>NaN</td>\n",
       "      <td>5.0</td>\n",
       "      <td>4.0</td>\n",
       "      <td>5.0</td>\n",
       "      <td>4.00</td>\n",
       "      <td>NaN</td>\n",
       "      <td>5.0</td>\n",
       "      <td>5.0</td>\n",
       "      <td>4.0</td>\n",
       "      <td>4.00</td>\n",
       "      <td>4.0</td>\n",
       "      <td>5.0</td>\n",
       "      <td>4.0</td>\n",
       "    </tr>\n",
       "    <tr>\n",
       "      <th>1</th>\n",
       "      <td>2</td>\n",
       "      <td>4.0</td>\n",
       "      <td>4.0</td>\n",
       "      <td>NaN</td>\n",
       "      <td>NaN</td>\n",
       "      <td>4.0</td>\n",
       "      <td>4.0</td>\n",
       "      <td>5.0</td>\n",
       "      <td>4.0</td>\n",
       "      <td>NaN</td>\n",
       "      <td>NaN</td>\n",
       "      <td>3.00</td>\n",
       "      <td>3.75</td>\n",
       "      <td>NaN</td>\n",
       "      <td>4.0</td>\n",
       "      <td>4.5</td>\n",
       "      <td>3.75</td>\n",
       "      <td>4.0</td>\n",
       "      <td>4.5</td>\n",
       "      <td>3.5</td>\n",
       "    </tr>\n",
       "    <tr>\n",
       "      <th>2</th>\n",
       "      <td>3</td>\n",
       "      <td>4.5</td>\n",
       "      <td>3.0</td>\n",
       "      <td>0.5</td>\n",
       "      <td>0.5</td>\n",
       "      <td>0.5</td>\n",
       "      <td>0.5</td>\n",
       "      <td>NaN</td>\n",
       "      <td>0.5</td>\n",
       "      <td>4.0</td>\n",
       "      <td>NaN</td>\n",
       "      <td>4.75</td>\n",
       "      <td>NaN</td>\n",
       "      <td>0.5</td>\n",
       "      <td>5.0</td>\n",
       "      <td>0.5</td>\n",
       "      <td>5.00</td>\n",
       "      <td>5.0</td>\n",
       "      <td>0.5</td>\n",
       "      <td>NaN</td>\n",
       "    </tr>\n",
       "    <tr>\n",
       "      <th>3</th>\n",
       "      <td>4</td>\n",
       "      <td>4.0</td>\n",
       "      <td>4.0</td>\n",
       "      <td>4.0</td>\n",
       "      <td>4.0</td>\n",
       "      <td>4.0</td>\n",
       "      <td>4.0</td>\n",
       "      <td>4.0</td>\n",
       "      <td>4.0</td>\n",
       "      <td>4.0</td>\n",
       "      <td>4.5</td>\n",
       "      <td>4.00</td>\n",
       "      <td>3.00</td>\n",
       "      <td>4.0</td>\n",
       "      <td>4.0</td>\n",
       "      <td>3.5</td>\n",
       "      <td>2.50</td>\n",
       "      <td>4.0</td>\n",
       "      <td>4.0</td>\n",
       "      <td>4.0</td>\n",
       "    </tr>\n",
       "    <tr>\n",
       "      <th>4</th>\n",
       "      <td>5</td>\n",
       "      <td>3.0</td>\n",
       "      <td>3.0</td>\n",
       "      <td>4.5</td>\n",
       "      <td>4.0</td>\n",
       "      <td>3.0</td>\n",
       "      <td>4.0</td>\n",
       "      <td>NaN</td>\n",
       "      <td>4.0</td>\n",
       "      <td>4.0</td>\n",
       "      <td>NaN</td>\n",
       "      <td>3.00</td>\n",
       "      <td>3.00</td>\n",
       "      <td>5.0</td>\n",
       "      <td>4.0</td>\n",
       "      <td>3.0</td>\n",
       "      <td>2.50</td>\n",
       "      <td>4.0</td>\n",
       "      <td>4.0</td>\n",
       "      <td>3.0</td>\n",
       "    </tr>\n",
       "  </tbody>\n",
       "</table>\n",
       "</div>"
      ],
      "text/plain": [
       "   userId  Action  Adventure  Animation  Children  Comedy  Crime  Documentary   \n",
       "0       1     4.0        5.0        5.0       5.0     4.0    5.0          NaN  \\\n",
       "1       2     4.0        4.0        NaN       NaN     4.0    4.0          5.0   \n",
       "2       3     4.5        3.0        0.5       0.5     0.5    0.5          NaN   \n",
       "3       4     4.0        4.0        4.0       4.0     4.0    4.0          4.0   \n",
       "4       5     3.0        3.0        4.5       4.0     3.0    4.0          NaN   \n",
       "\n",
       "   Drama  Fantasy  Film-Noir  Horror  IMAX  Musical  Mystery  Romance  Sci-Fi   \n",
       "0    5.0      4.0        5.0    4.00   NaN      5.0      5.0      4.0    4.00  \\\n",
       "1    4.0      NaN        NaN    3.00  3.75      NaN      4.0      4.5    3.75   \n",
       "2    0.5      4.0        NaN    4.75   NaN      0.5      5.0      0.5    5.00   \n",
       "3    4.0      4.0        4.5    4.00  3.00      4.0      4.0      3.5    2.50   \n",
       "4    4.0      4.0        NaN    3.00  3.00      5.0      4.0      3.0    2.50   \n",
       "\n",
       "   Thriller  War  Western  \n",
       "0       4.0  5.0      4.0  \n",
       "1       4.0  4.5      3.5  \n",
       "2       5.0  0.5      NaN  \n",
       "3       4.0  4.0      4.0  \n",
       "4       4.0  4.0      3.0  "
      ]
     },
     "execution_count": 26,
     "metadata": {},
     "output_type": "execute_result"
    }
   ],
   "source": [
    "# median values of individual users for each genre\n",
    "median_ratings = {}\n",
    "for genre in genre_names:\n",
    "    median_ratings[genre] = movies.loc[movies[genre] == 1].groupby('userId')['rating'].median()\n",
    "\n",
    "user_ratings_df = pd.DataFrame(median_ratings).reset_index()\n",
    "\n",
    "user_ratings_df.head()"
   ]
  },
  {
   "cell_type": "code",
   "execution_count": 27,
   "metadata": {},
   "outputs": [
    {
     "data": {
      "text/html": [
       "<div>\n",
       "<style scoped>\n",
       "    .dataframe tbody tr th:only-of-type {\n",
       "        vertical-align: middle;\n",
       "    }\n",
       "\n",
       "    .dataframe tbody tr th {\n",
       "        vertical-align: top;\n",
       "    }\n",
       "\n",
       "    .dataframe thead th {\n",
       "        text-align: right;\n",
       "    }\n",
       "</style>\n",
       "<table border=\"1\" class=\"dataframe\">\n",
       "  <thead>\n",
       "    <tr style=\"text-align: right;\">\n",
       "      <th></th>\n",
       "      <th>userId</th>\n",
       "      <th>Action</th>\n",
       "      <th>Adventure</th>\n",
       "      <th>Animation</th>\n",
       "      <th>Children</th>\n",
       "      <th>Comedy</th>\n",
       "      <th>Crime</th>\n",
       "      <th>Documentary</th>\n",
       "      <th>Drama</th>\n",
       "      <th>Fantasy</th>\n",
       "      <th>Film-Noir</th>\n",
       "      <th>Horror</th>\n",
       "      <th>IMAX</th>\n",
       "      <th>Musical</th>\n",
       "      <th>Mystery</th>\n",
       "      <th>Romance</th>\n",
       "      <th>Sci-Fi</th>\n",
       "      <th>Thriller</th>\n",
       "      <th>War</th>\n",
       "      <th>Western</th>\n",
       "    </tr>\n",
       "  </thead>\n",
       "  <tbody>\n",
       "    <tr>\n",
       "      <th>0</th>\n",
       "      <td>1</td>\n",
       "      <td>0.0</td>\n",
       "      <td>1.0</td>\n",
       "      <td>1.0</td>\n",
       "      <td>1.0</td>\n",
       "      <td>0.0</td>\n",
       "      <td>1.0</td>\n",
       "      <td>0.0</td>\n",
       "      <td>1.0</td>\n",
       "      <td>0.0</td>\n",
       "      <td>1.0</td>\n",
       "      <td>0.0</td>\n",
       "      <td>0.0</td>\n",
       "      <td>1.0</td>\n",
       "      <td>1.0</td>\n",
       "      <td>0.0</td>\n",
       "      <td>0.0</td>\n",
       "      <td>0.0</td>\n",
       "      <td>1.0</td>\n",
       "      <td>0.0</td>\n",
       "    </tr>\n",
       "    <tr>\n",
       "      <th>1</th>\n",
       "      <td>2</td>\n",
       "      <td>0.0</td>\n",
       "      <td>0.0</td>\n",
       "      <td>0.0</td>\n",
       "      <td>0.0</td>\n",
       "      <td>0.0</td>\n",
       "      <td>0.0</td>\n",
       "      <td>1.0</td>\n",
       "      <td>0.0</td>\n",
       "      <td>0.0</td>\n",
       "      <td>0.0</td>\n",
       "      <td>0.0</td>\n",
       "      <td>0.0</td>\n",
       "      <td>0.0</td>\n",
       "      <td>0.0</td>\n",
       "      <td>1.0</td>\n",
       "      <td>0.0</td>\n",
       "      <td>0.0</td>\n",
       "      <td>1.0</td>\n",
       "      <td>0.0</td>\n",
       "    </tr>\n",
       "    <tr>\n",
       "      <th>2</th>\n",
       "      <td>3</td>\n",
       "      <td>1.0</td>\n",
       "      <td>0.0</td>\n",
       "      <td>0.0</td>\n",
       "      <td>0.0</td>\n",
       "      <td>0.0</td>\n",
       "      <td>0.0</td>\n",
       "      <td>0.0</td>\n",
       "      <td>0.0</td>\n",
       "      <td>0.0</td>\n",
       "      <td>0.0</td>\n",
       "      <td>1.0</td>\n",
       "      <td>0.0</td>\n",
       "      <td>0.0</td>\n",
       "      <td>1.0</td>\n",
       "      <td>0.0</td>\n",
       "      <td>1.0</td>\n",
       "      <td>1.0</td>\n",
       "      <td>0.0</td>\n",
       "      <td>0.0</td>\n",
       "    </tr>\n",
       "    <tr>\n",
       "      <th>3</th>\n",
       "      <td>4</td>\n",
       "      <td>0.0</td>\n",
       "      <td>0.0</td>\n",
       "      <td>0.0</td>\n",
       "      <td>0.0</td>\n",
       "      <td>0.0</td>\n",
       "      <td>0.0</td>\n",
       "      <td>0.0</td>\n",
       "      <td>0.0</td>\n",
       "      <td>0.0</td>\n",
       "      <td>1.0</td>\n",
       "      <td>0.0</td>\n",
       "      <td>0.0</td>\n",
       "      <td>0.0</td>\n",
       "      <td>0.0</td>\n",
       "      <td>0.0</td>\n",
       "      <td>0.0</td>\n",
       "      <td>0.0</td>\n",
       "      <td>0.0</td>\n",
       "      <td>0.0</td>\n",
       "    </tr>\n",
       "    <tr>\n",
       "      <th>4</th>\n",
       "      <td>5</td>\n",
       "      <td>0.0</td>\n",
       "      <td>0.0</td>\n",
       "      <td>1.0</td>\n",
       "      <td>0.0</td>\n",
       "      <td>0.0</td>\n",
       "      <td>0.0</td>\n",
       "      <td>0.0</td>\n",
       "      <td>0.0</td>\n",
       "      <td>0.0</td>\n",
       "      <td>0.0</td>\n",
       "      <td>0.0</td>\n",
       "      <td>0.0</td>\n",
       "      <td>1.0</td>\n",
       "      <td>0.0</td>\n",
       "      <td>0.0</td>\n",
       "      <td>0.0</td>\n",
       "      <td>0.0</td>\n",
       "      <td>0.0</td>\n",
       "      <td>0.0</td>\n",
       "    </tr>\n",
       "  </tbody>\n",
       "</table>\n",
       "</div>"
      ],
      "text/plain": [
       "   userId  Action  Adventure  Animation  Children  Comedy  Crime  Documentary   \n",
       "0       1     0.0        1.0        1.0       1.0     0.0    1.0          0.0  \\\n",
       "1       2     0.0        0.0        0.0       0.0     0.0    0.0          1.0   \n",
       "2       3     1.0        0.0        0.0       0.0     0.0    0.0          0.0   \n",
       "3       4     0.0        0.0        0.0       0.0     0.0    0.0          0.0   \n",
       "4       5     0.0        0.0        1.0       0.0     0.0    0.0          0.0   \n",
       "\n",
       "   Drama  Fantasy  Film-Noir  Horror  IMAX  Musical  Mystery  Romance  Sci-Fi   \n",
       "0    1.0      0.0        1.0     0.0   0.0      1.0      1.0      0.0     0.0  \\\n",
       "1    0.0      0.0        0.0     0.0   0.0      0.0      0.0      1.0     0.0   \n",
       "2    0.0      0.0        0.0     1.0   0.0      0.0      1.0      0.0     1.0   \n",
       "3    0.0      0.0        1.0     0.0   0.0      0.0      0.0      0.0     0.0   \n",
       "4    0.0      0.0        0.0     0.0   0.0      1.0      0.0      0.0     0.0   \n",
       "\n",
       "   Thriller  War  Western  \n",
       "0       0.0  1.0      0.0  \n",
       "1       0.0  1.0      0.0  \n",
       "2       1.0  0.0      0.0  \n",
       "3       0.0  0.0      0.0  \n",
       "4       0.0  0.0      0.0  "
      ]
     },
     "execution_count": 27,
     "metadata": {},
     "output_type": "execute_result"
    }
   ],
   "source": [
    "# preprocess to get the genre preference\n",
    "\n",
    "from sklearn.preprocessing import Binarizer\n",
    "\n",
    "threshold = 4.0\n",
    "\n",
    "# getting the genre columns only\n",
    "genre_columns = user_ratings_df.drop([\"userId\"], axis=1).fillna(0)\n",
    "\n",
    "# fit and transform via Binarizer\n",
    "binarizer = Binarizer(threshold=threshold, copy=True)\n",
    "genre_columns = binarizer.fit_transform(genre_columns)\n",
    "\n",
    "# genre columns with preference\n",
    "genre_pref_df = pd.DataFrame(genre_columns, columns=binarizer.get_feature_names_out())\n",
    "\n",
    "# user Id column\n",
    "user_id = user_ratings_df['userId']\n",
    "\n",
    "# concatenate both\n",
    "genre_pref_df = pd.concat([user_ratings_df['userId'], genre_pref_df], axis=1)\n",
    "genre_pref_df.head()"
   ]
  },
  {
   "cell_type": "markdown",
   "metadata": {},
   "source": [
    "# **Scenario 1**: Movie Recommendations to a New User immediately **after signing up**"
   ]
  },
  {
   "cell_type": "markdown",
   "metadata": {},
   "source": [
    "For our recommendation system, we provide two different scenarios: 1) when a new user signs up and has not provided us with any movie ratings, and 2) when this new user provides us with the first movie rating. Realistically, new users will not start rating movies immediately after signing up, and that’s why the **\"personalizing your preferences page\"** is important for recommendation system. We would gather the new user's genre preference from the personalizing year preferences page immediately following signing up.\n",
    "\n",
    "Let's add our new user to the genre preference matrix. Our new user, Simon, has selected **Action**, **Adventure**, and **Mystery** as preferred genres upon signing up to the streaming service platform."
   ]
  },
  {
   "cell_type": "markdown",
   "metadata": {},
   "source": [
    "### Add the new user information to the genre preference dataframe"
   ]
  },
  {
   "cell_type": "code",
   "execution_count": 28,
   "metadata": {},
   "outputs": [],
   "source": [
    "def add_new_user(new_user, df):\n",
    "    \"\"\"\n",
    "    Add the new user information to the dataframe.\n",
    "\n",
    "    Parameters:\n",
    "        new_user (dictionary): Information on the new user to be added to the dataframe. \n",
    "        df (pandas.DataFrame): Base dataframe.\n",
    "    Returns:\n",
    "        df (pandas.DataFrame): Base dataframe with the new information added at the end. Missing values are filled with 0.\n",
    "    \"\"\"\n",
    "    import pandas as pd\n",
    "    \n",
    "    new_user_df = pd.DataFrame(new_user, index=[0])\n",
    "    new_genre_pref_df = pd.concat([df, new_user_df], axis=0).reset_index(drop=True)\n",
    "    \n",
    "    return new_genre_pref_df.fillna(0)"
   ]
  },
  {
   "cell_type": "code",
   "execution_count": 29,
   "metadata": {},
   "outputs": [
    {
     "data": {
      "text/html": [
       "<div>\n",
       "<style scoped>\n",
       "    .dataframe tbody tr th:only-of-type {\n",
       "        vertical-align: middle;\n",
       "    }\n",
       "\n",
       "    .dataframe tbody tr th {\n",
       "        vertical-align: top;\n",
       "    }\n",
       "\n",
       "    .dataframe thead th {\n",
       "        text-align: right;\n",
       "    }\n",
       "</style>\n",
       "<table border=\"1\" class=\"dataframe\">\n",
       "  <thead>\n",
       "    <tr style=\"text-align: right;\">\n",
       "      <th></th>\n",
       "      <th>userId</th>\n",
       "      <th>Action</th>\n",
       "      <th>Adventure</th>\n",
       "      <th>Animation</th>\n",
       "      <th>Children</th>\n",
       "      <th>Comedy</th>\n",
       "      <th>Crime</th>\n",
       "      <th>Documentary</th>\n",
       "      <th>Drama</th>\n",
       "      <th>Fantasy</th>\n",
       "      <th>Film-Noir</th>\n",
       "      <th>Horror</th>\n",
       "      <th>IMAX</th>\n",
       "      <th>Musical</th>\n",
       "      <th>Mystery</th>\n",
       "      <th>Romance</th>\n",
       "      <th>Sci-Fi</th>\n",
       "      <th>Thriller</th>\n",
       "      <th>War</th>\n",
       "      <th>Western</th>\n",
       "    </tr>\n",
       "  </thead>\n",
       "  <tbody>\n",
       "    <tr>\n",
       "      <th>606</th>\n",
       "      <td>607</td>\n",
       "      <td>0.0</td>\n",
       "      <td>0.0</td>\n",
       "      <td>0.0</td>\n",
       "      <td>0.0</td>\n",
       "      <td>0.0</td>\n",
       "      <td>0.0</td>\n",
       "      <td>0.0</td>\n",
       "      <td>0.0</td>\n",
       "      <td>0.0</td>\n",
       "      <td>0.0</td>\n",
       "      <td>0.0</td>\n",
       "      <td>1.0</td>\n",
       "      <td>0.0</td>\n",
       "      <td>1.0</td>\n",
       "      <td>0.0</td>\n",
       "      <td>0.0</td>\n",
       "      <td>0.0</td>\n",
       "      <td>1.0</td>\n",
       "      <td>0.0</td>\n",
       "    </tr>\n",
       "    <tr>\n",
       "      <th>607</th>\n",
       "      <td>608</td>\n",
       "      <td>0.0</td>\n",
       "      <td>0.0</td>\n",
       "      <td>0.0</td>\n",
       "      <td>0.0</td>\n",
       "      <td>0.0</td>\n",
       "      <td>0.0</td>\n",
       "      <td>0.0</td>\n",
       "      <td>0.0</td>\n",
       "      <td>0.0</td>\n",
       "      <td>0.0</td>\n",
       "      <td>0.0</td>\n",
       "      <td>0.0</td>\n",
       "      <td>0.0</td>\n",
       "      <td>0.0</td>\n",
       "      <td>0.0</td>\n",
       "      <td>0.0</td>\n",
       "      <td>0.0</td>\n",
       "      <td>0.0</td>\n",
       "      <td>0.0</td>\n",
       "    </tr>\n",
       "    <tr>\n",
       "      <th>608</th>\n",
       "      <td>609</td>\n",
       "      <td>0.0</td>\n",
       "      <td>0.0</td>\n",
       "      <td>0.0</td>\n",
       "      <td>0.0</td>\n",
       "      <td>0.0</td>\n",
       "      <td>0.0</td>\n",
       "      <td>0.0</td>\n",
       "      <td>0.0</td>\n",
       "      <td>0.0</td>\n",
       "      <td>0.0</td>\n",
       "      <td>0.0</td>\n",
       "      <td>0.0</td>\n",
       "      <td>0.0</td>\n",
       "      <td>0.0</td>\n",
       "      <td>0.0</td>\n",
       "      <td>0.0</td>\n",
       "      <td>0.0</td>\n",
       "      <td>0.0</td>\n",
       "      <td>0.0</td>\n",
       "    </tr>\n",
       "    <tr>\n",
       "      <th>609</th>\n",
       "      <td>610</td>\n",
       "      <td>0.0</td>\n",
       "      <td>0.0</td>\n",
       "      <td>0.0</td>\n",
       "      <td>0.0</td>\n",
       "      <td>0.0</td>\n",
       "      <td>0.0</td>\n",
       "      <td>0.0</td>\n",
       "      <td>0.0</td>\n",
       "      <td>0.0</td>\n",
       "      <td>1.0</td>\n",
       "      <td>0.0</td>\n",
       "      <td>0.0</td>\n",
       "      <td>0.0</td>\n",
       "      <td>0.0</td>\n",
       "      <td>0.0</td>\n",
       "      <td>0.0</td>\n",
       "      <td>0.0</td>\n",
       "      <td>0.0</td>\n",
       "      <td>0.0</td>\n",
       "    </tr>\n",
       "    <tr>\n",
       "      <th>610</th>\n",
       "      <td>611</td>\n",
       "      <td>1.0</td>\n",
       "      <td>1.0</td>\n",
       "      <td>0.0</td>\n",
       "      <td>0.0</td>\n",
       "      <td>0.0</td>\n",
       "      <td>0.0</td>\n",
       "      <td>0.0</td>\n",
       "      <td>0.0</td>\n",
       "      <td>0.0</td>\n",
       "      <td>0.0</td>\n",
       "      <td>0.0</td>\n",
       "      <td>0.0</td>\n",
       "      <td>0.0</td>\n",
       "      <td>1.0</td>\n",
       "      <td>0.0</td>\n",
       "      <td>0.0</td>\n",
       "      <td>0.0</td>\n",
       "      <td>0.0</td>\n",
       "      <td>0.0</td>\n",
       "    </tr>\n",
       "  </tbody>\n",
       "</table>\n",
       "</div>"
      ],
      "text/plain": [
       "     userId  Action  Adventure  Animation  Children  Comedy  Crime   \n",
       "606     607     0.0        0.0        0.0       0.0     0.0    0.0  \\\n",
       "607     608     0.0        0.0        0.0       0.0     0.0    0.0   \n",
       "608     609     0.0        0.0        0.0       0.0     0.0    0.0   \n",
       "609     610     0.0        0.0        0.0       0.0     0.0    0.0   \n",
       "610     611     1.0        1.0        0.0       0.0     0.0    0.0   \n",
       "\n",
       "     Documentary  Drama  Fantasy  Film-Noir  Horror  IMAX  Musical  Mystery   \n",
       "606          0.0    0.0      0.0        0.0     0.0   1.0      0.0      1.0  \\\n",
       "607          0.0    0.0      0.0        0.0     0.0   0.0      0.0      0.0   \n",
       "608          0.0    0.0      0.0        0.0     0.0   0.0      0.0      0.0   \n",
       "609          0.0    0.0      0.0        1.0     0.0   0.0      0.0      0.0   \n",
       "610          0.0    0.0      0.0        0.0     0.0   0.0      0.0      1.0   \n",
       "\n",
       "     Romance  Sci-Fi  Thriller  War  Western  \n",
       "606      0.0     0.0       0.0  1.0      0.0  \n",
       "607      0.0     0.0       0.0  0.0      0.0  \n",
       "608      0.0     0.0       0.0  0.0      0.0  \n",
       "609      0.0     0.0       0.0  0.0      0.0  \n",
       "610      0.0     0.0       0.0  0.0      0.0  "
      ]
     },
     "execution_count": 29,
     "metadata": {},
     "output_type": "execute_result"
    }
   ],
   "source": [
    "# Manually inputed new user Id and genre preferences\n",
    "new_user = {'userId': 611, 'Action': 1, 'Adventure': 1, 'Mystery': 1}\n",
    "\n",
    "new_genre_pref_df = add_new_user(new_user, genre_pref_df)\n",
    "\n",
    "new_genre_pref_df.tail()"
   ]
  },
  {
   "cell_type": "markdown",
   "metadata": {},
   "source": [
    "Our new user has been added at the bottom of the dataframe, and is assigned `611` as the `userId`."
   ]
  },
  {
   "cell_type": "markdown",
   "metadata": {},
   "source": [
    "## **First model** for recommendation: Find similar user(s) based on **Pearson Correlation Coefficient**\n",
    "\n",
    "For our first scenario, we find correlations between all pre-existing users and the new user to find the users with similar genre preferences. From them, top rated movies are recommended to the new user.\n",
    "\n",
    "### Find most correlated users"
   ]
  },
  {
   "cell_type": "code",
   "execution_count": 30,
   "metadata": {},
   "outputs": [],
   "source": [
    "def find_similar_user_idx(target_user, df):\n",
    "    \"\"\"\n",
    "    Run Pearson correlation coefficients between individual users to find 5 most highly correlated users.\n",
    "\n",
    "    Parameters:\n",
    "        target_user (int): User Id of the target user.\n",
    "        df (pandas.DataFrame): Dataframe with binary genre preferences.\n",
    "    Returns:\n",
    "        list: indexes of 5 most highly correlated users to the target user.\n",
    "    \"\"\"\n",
    "    target_coef = pd.DataFrame(np.corrcoef(df.drop(\"userId\", axis=1)))[target_user-1]\n",
    "    target_coef = target_coef.sort_values(ascending=False).fillna(0)\n",
    "    similar_users_idx = list(dict(itertools.islice(target_coef.items(), 6)).keys())\n",
    "    similar_users_idx.remove(target_user-1)\n",
    "\n",
    "    return similar_users_idx"
   ]
  },
  {
   "cell_type": "code",
   "execution_count": 31,
   "metadata": {},
   "outputs": [
    {
     "name": "stderr",
     "output_type": "stream",
     "text": [
      "/Library/Frameworks/Python.framework/Versions/3.10/lib/python3.10/site-packages/numpy/lib/function_base.py:2854: RuntimeWarning: invalid value encountered in divide\n",
      "  c /= stddev[:, None]\n",
      "/Library/Frameworks/Python.framework/Versions/3.10/lib/python3.10/site-packages/numpy/lib/function_base.py:2855: RuntimeWarning: invalid value encountered in divide\n",
      "  c /= stddev[None, :]\n"
     ]
    },
    {
     "data": {
      "text/plain": [
       "[577, 334, 336, 135, 373]"
      ]
     },
     "execution_count": 31,
     "metadata": {},
     "output_type": "execute_result"
    }
   ],
   "source": [
    "# Find 5 most correlated users via pearson correlation coefficient\n",
    "similar_users_idx = find_similar_user_idx(target_user=611, df=new_genre_pref_df)\n",
    "similar_users_idx"
   ]
  },
  {
   "cell_type": "markdown",
   "metadata": {},
   "source": [
    "### Select the most highly rated movies from each similar user"
   ]
  },
  {
   "cell_type": "code",
   "execution_count": 32,
   "metadata": {},
   "outputs": [],
   "source": [
    "def rec_from_similar_users(user_id, df, sample_num):\n",
    "    \"\"\"\n",
    "    Find movie titles that are the most highly rated by a given user in the dataframe.\n",
    "\n",
    "    Parameters:\n",
    "        user_id (int): User Id of the target user\n",
    "        df (pandas.DataFrame): Base dataframe.\n",
    "        sample_num (int): Number of samples to obtain from one user.\n",
    "    Returns:\n",
    "        string. Title of the recommended movie.\n",
    "    \"\"\"\n",
    "    similar_df = df.loc[df['userId'] == user_id]\n",
    "    max_rating = similar_df['rating'].max()\n",
    "    movie_rec_title = similar_df.loc[similar_df['rating'] == max_rating].sample(n=sample_num, replace=False)['title']\n",
    "    \n",
    "    return movie_rec_title.values[0]"
   ]
  },
  {
   "cell_type": "code",
   "execution_count": 33,
   "metadata": {},
   "outputs": [
    {
     "data": {
      "text/plain": [
       "[\"King's Speech, The (2010)\",\n",
       " 'Matrix, The (1999)',\n",
       " 'Willy Wonka & the Chocolate Factory (1971)',\n",
       " 'I.Q. (1994)',\n",
       " 'Braveheart (1995)']"
      ]
     },
     "execution_count": 33,
     "metadata": {},
     "output_type": "execute_result"
    }
   ],
   "source": [
    "# Recommended movie titles from each similar user\n",
    "corrcoef_movie_rec = []\n",
    "\n",
    "for user_idx in similar_users_idx:\n",
    "    user_id = user_idx+1\n",
    "    corrcoef_movie_rec.append(rec_from_similar_users(user_id=user_id, df=movies, sample_num=1))\n",
    "\n",
    "corrcoef_movie_rec"
   ]
  },
  {
   "cell_type": "markdown",
   "metadata": {},
   "source": [
    "# **Scenario 2**: Movie Recommendations after the **First Movie Rating** from the New User"
   ]
  },
  {
   "cell_type": "markdown",
   "metadata": {},
   "source": [
    "## **Second Model**: `KNNBasic` to get similar users and movie recommendations"
   ]
  },
  {
   "cell_type": "markdown",
   "metadata": {},
   "source": [
    "### Find the best `KNNBasic` model\n",
    "\n",
    "The new user is expected to provide the streaming service platform with movie rating information as time passes. Once this information is received, different approaches can be taken to provide more tailored movie recommendations. We try three different parameters to determine the closest neighbors: `MSD`, `pearson`, and `cosine`."
   ]
  },
  {
   "cell_type": "code",
   "execution_count": 34,
   "metadata": {},
   "outputs": [],
   "source": [
    "# Read in data and train test split\n",
    "from surprise.prediction_algorithms.knns import KNNBasic\n",
    "from surprise.model_selection import train_test_split\n",
    "from surprise import Reader, Dataset\n",
    "from surprise.accuracy import mae\n",
    "from surprise import BaselineOnly\n",
    "\n",
    "reader = Reader(rating_scale = (0.5, 5))\n",
    "knn_data = Dataset.load_from_df(movies[['userId', 'movieId', 'rating']], reader=reader)\n",
    "\n",
    "# train test split for knn because CV takes way too long...\n",
    "train, test = train_test_split(knn_data, random_state=42)"
   ]
  },
  {
   "cell_type": "code",
   "execution_count": 35,
   "metadata": {},
   "outputs": [
    {
     "name": "stdout",
     "output_type": "stream",
     "text": [
      "Computing the msd similarity matrix...\n",
      "Done computing similarity matrix.\n",
      "MAE:  0.7164\n"
     ]
    },
    {
     "data": {
      "text/plain": [
       "0.7163800092239023"
      ]
     },
     "execution_count": 35,
     "metadata": {},
     "output_type": "execute_result"
    }
   ],
   "source": [
    "# First option: 'MSD'\n",
    "sim_options = {'name': 'MSD',\n",
    "               'user_based': True\n",
    "               }\n",
    "knn = KNNBasic(sim_options = sim_options).fit(train)\n",
    "knn.test(test)\n",
    "mae(knn.test(test))"
   ]
  },
  {
   "cell_type": "code",
   "execution_count": 36,
   "metadata": {},
   "outputs": [
    {
     "name": "stdout",
     "output_type": "stream",
     "text": [
      "Computing the pearson similarity matrix...\n",
      "Done computing similarity matrix.\n",
      "MAE:  0.7436\n"
     ]
    },
    {
     "data": {
      "text/plain": [
       "0.7436360350206213"
      ]
     },
     "execution_count": 36,
     "metadata": {},
     "output_type": "execute_result"
    }
   ],
   "source": [
    "# Second option: 'pearson'\n",
    "sim_options_pearson = {'name': 'pearson',\n",
    "               'user_based': True\n",
    "               }\n",
    "knn_pearson = KNNBasic(sim_options = sim_options_pearson).fit(train)\n",
    "knn_pearson.test(test)\n",
    "mae(knn_pearson.test(test))"
   ]
  },
  {
   "cell_type": "code",
   "execution_count": 37,
   "metadata": {},
   "outputs": [
    {
     "name": "stdout",
     "output_type": "stream",
     "text": [
      "Computing the cosine similarity matrix...\n",
      "Done computing similarity matrix.\n",
      "MAE:  0.7164\n"
     ]
    },
    {
     "data": {
      "text/plain": [
       "0.7163800092239023"
      ]
     },
     "execution_count": 37,
     "metadata": {},
     "output_type": "execute_result"
    }
   ],
   "source": [
    "# Third option: 'cosine'\n",
    "sim_options_cosine = {'name': 'cosine',\n",
    "               'user_based': True\n",
    "               }\n",
    "knn_cosine = KNNBasic(sim_options = sim_options_cosine).fit(train)\n",
    "knn_cosine.test(test)\n",
    "mae(knn.test(test))"
   ]
  },
  {
   "cell_type": "markdown",
   "metadata": {},
   "source": [
    "We determine that `MSD` or `cosine` parameter yields smaller mean absolute error; thus, we decide to use one of these parameters for our `KNNBasic` model."
   ]
  },
  {
   "cell_type": "markdown",
   "metadata": {},
   "source": [
    "### `KNNBasic` model after adding our new user's movie rating\n",
    "\n",
    "Now, our new user has watched a movie and decided to provide a rating."
   ]
  },
  {
   "cell_type": "code",
   "execution_count": 38,
   "metadata": {},
   "outputs": [
    {
     "data": {
      "text/html": [
       "<div>\n",
       "<style scoped>\n",
       "    .dataframe tbody tr th:only-of-type {\n",
       "        vertical-align: middle;\n",
       "    }\n",
       "\n",
       "    .dataframe tbody tr th {\n",
       "        vertical-align: top;\n",
       "    }\n",
       "\n",
       "    .dataframe thead th {\n",
       "        text-align: right;\n",
       "    }\n",
       "</style>\n",
       "<table border=\"1\" class=\"dataframe\">\n",
       "  <thead>\n",
       "    <tr style=\"text-align: right;\">\n",
       "      <th></th>\n",
       "      <th>movieId</th>\n",
       "      <th>title</th>\n",
       "      <th>genres</th>\n",
       "      <th>year</th>\n",
       "      <th>userId</th>\n",
       "      <th>rating</th>\n",
       "      <th>timestamp</th>\n",
       "      <th>(no genres listed)</th>\n",
       "      <th>Action</th>\n",
       "      <th>Adventure</th>\n",
       "      <th>...</th>\n",
       "      <th>Film-Noir</th>\n",
       "      <th>Horror</th>\n",
       "      <th>IMAX</th>\n",
       "      <th>Musical</th>\n",
       "      <th>Mystery</th>\n",
       "      <th>Romance</th>\n",
       "      <th>Sci-Fi</th>\n",
       "      <th>Thriller</th>\n",
       "      <th>War</th>\n",
       "      <th>Western</th>\n",
       "    </tr>\n",
       "  </thead>\n",
       "  <tbody>\n",
       "    <tr>\n",
       "      <th>100785</th>\n",
       "      <td>193583</td>\n",
       "      <td>No Game No Life: Zero (2017)</td>\n",
       "      <td>[Animation, Comedy, Fantasy]</td>\n",
       "      <td>2017</td>\n",
       "      <td>184</td>\n",
       "      <td>3.5</td>\n",
       "      <td>1.537110e+09</td>\n",
       "      <td>0.0</td>\n",
       "      <td>0.0</td>\n",
       "      <td>0.0</td>\n",
       "      <td>...</td>\n",
       "      <td>0.0</td>\n",
       "      <td>0.0</td>\n",
       "      <td>0.0</td>\n",
       "      <td>0.0</td>\n",
       "      <td>0</td>\n",
       "      <td>0.0</td>\n",
       "      <td>0.0</td>\n",
       "      <td>0</td>\n",
       "      <td>0.0</td>\n",
       "      <td>0.0</td>\n",
       "    </tr>\n",
       "    <tr>\n",
       "      <th>100786</th>\n",
       "      <td>193585</td>\n",
       "      <td>Flint (2017)</td>\n",
       "      <td>[Drama]</td>\n",
       "      <td>2017</td>\n",
       "      <td>184</td>\n",
       "      <td>3.5</td>\n",
       "      <td>1.537110e+09</td>\n",
       "      <td>0.0</td>\n",
       "      <td>0.0</td>\n",
       "      <td>0.0</td>\n",
       "      <td>...</td>\n",
       "      <td>0.0</td>\n",
       "      <td>0.0</td>\n",
       "      <td>0.0</td>\n",
       "      <td>0.0</td>\n",
       "      <td>0</td>\n",
       "      <td>0.0</td>\n",
       "      <td>0.0</td>\n",
       "      <td>0</td>\n",
       "      <td>0.0</td>\n",
       "      <td>0.0</td>\n",
       "    </tr>\n",
       "    <tr>\n",
       "      <th>100787</th>\n",
       "      <td>193587</td>\n",
       "      <td>Bungo Stray Dogs: Dead Apple (2018)</td>\n",
       "      <td>[Action, Animation]</td>\n",
       "      <td>2018</td>\n",
       "      <td>184</td>\n",
       "      <td>3.5</td>\n",
       "      <td>1.537110e+09</td>\n",
       "      <td>0.0</td>\n",
       "      <td>1.0</td>\n",
       "      <td>0.0</td>\n",
       "      <td>...</td>\n",
       "      <td>0.0</td>\n",
       "      <td>0.0</td>\n",
       "      <td>0.0</td>\n",
       "      <td>0.0</td>\n",
       "      <td>0</td>\n",
       "      <td>0.0</td>\n",
       "      <td>0.0</td>\n",
       "      <td>0</td>\n",
       "      <td>0.0</td>\n",
       "      <td>0.0</td>\n",
       "    </tr>\n",
       "    <tr>\n",
       "      <th>100788</th>\n",
       "      <td>193609</td>\n",
       "      <td>Andrew Dice Clay: Dice Rules (1991)</td>\n",
       "      <td>[Comedy]</td>\n",
       "      <td>1991</td>\n",
       "      <td>331</td>\n",
       "      <td>4.0</td>\n",
       "      <td>1.537158e+09</td>\n",
       "      <td>0.0</td>\n",
       "      <td>0.0</td>\n",
       "      <td>0.0</td>\n",
       "      <td>...</td>\n",
       "      <td>0.0</td>\n",
       "      <td>0.0</td>\n",
       "      <td>0.0</td>\n",
       "      <td>0.0</td>\n",
       "      <td>0</td>\n",
       "      <td>0.0</td>\n",
       "      <td>0.0</td>\n",
       "      <td>0</td>\n",
       "      <td>0.0</td>\n",
       "      <td>0.0</td>\n",
       "    </tr>\n",
       "    <tr>\n",
       "      <th>100789</th>\n",
       "      <td>74458</td>\n",
       "      <td>Shutter Island (2010)</td>\n",
       "      <td>0</td>\n",
       "      <td>2010</td>\n",
       "      <td>611</td>\n",
       "      <td>5.0</td>\n",
       "      <td>0.000000e+00</td>\n",
       "      <td>0.0</td>\n",
       "      <td>0.0</td>\n",
       "      <td>0.0</td>\n",
       "      <td>...</td>\n",
       "      <td>0.0</td>\n",
       "      <td>0.0</td>\n",
       "      <td>0.0</td>\n",
       "      <td>0.0</td>\n",
       "      <td>1</td>\n",
       "      <td>0.0</td>\n",
       "      <td>0.0</td>\n",
       "      <td>1</td>\n",
       "      <td>0.0</td>\n",
       "      <td>0.0</td>\n",
       "    </tr>\n",
       "  </tbody>\n",
       "</table>\n",
       "<p>5 rows × 27 columns</p>\n",
       "</div>"
      ],
      "text/plain": [
       "        movieId                                title   \n",
       "100785   193583         No Game No Life: Zero (2017)  \\\n",
       "100786   193585                         Flint (2017)   \n",
       "100787   193587  Bungo Stray Dogs: Dead Apple (2018)   \n",
       "100788   193609  Andrew Dice Clay: Dice Rules (1991)   \n",
       "100789    74458                Shutter Island (2010)   \n",
       "\n",
       "                              genres  year  userId  rating     timestamp   \n",
       "100785  [Animation, Comedy, Fantasy]  2017     184     3.5  1.537110e+09  \\\n",
       "100786                       [Drama]  2017     184     3.5  1.537110e+09   \n",
       "100787           [Action, Animation]  2018     184     3.5  1.537110e+09   \n",
       "100788                      [Comedy]  1991     331     4.0  1.537158e+09   \n",
       "100789                             0  2010     611     5.0  0.000000e+00   \n",
       "\n",
       "        (no genres listed)  Action  Adventure  ...  Film-Noir  Horror  IMAX   \n",
       "100785                 0.0     0.0        0.0  ...        0.0     0.0   0.0  \\\n",
       "100786                 0.0     0.0        0.0  ...        0.0     0.0   0.0   \n",
       "100787                 0.0     1.0        0.0  ...        0.0     0.0   0.0   \n",
       "100788                 0.0     0.0        0.0  ...        0.0     0.0   0.0   \n",
       "100789                 0.0     0.0        0.0  ...        0.0     0.0   0.0   \n",
       "\n",
       "        Musical  Mystery  Romance  Sci-Fi  Thriller  War  Western  \n",
       "100785      0.0        0      0.0     0.0         0  0.0      0.0  \n",
       "100786      0.0        0      0.0     0.0         0  0.0      0.0  \n",
       "100787      0.0        0      0.0     0.0         0  0.0      0.0  \n",
       "100788      0.0        0      0.0     0.0         0  0.0      0.0  \n",
       "100789      0.0        1      0.0     0.0         1  0.0      0.0  \n",
       "\n",
       "[5 rows x 27 columns]"
      ]
     },
     "execution_count": 38,
     "metadata": {},
     "output_type": "execute_result"
    }
   ],
   "source": [
    "# Manually inputed movie rating information from the new user\n",
    "new_rating = {'movieId': 74458, 'title': 'Shutter Island (2010)', \n",
    "            'year': 2010, 'userId': 611, 'rating': 5.0,\n",
    "            'Drama': 1, 'Mystery': 1, 'Thriller': 1}\n",
    "\n",
    "# Add to the base dataframe\n",
    "new_movies = add_new_user(new_rating, movies)\n",
    "new_movies.tail()"
   ]
  },
  {
   "cell_type": "code",
   "execution_count": 39,
   "metadata": {},
   "outputs": [
    {
     "name": "stdout",
     "output_type": "stream",
     "text": [
      "Computing the msd similarity matrix...\n",
      "Done computing similarity matrix.\n",
      "MAE:  0.7185\n"
     ]
    },
    {
     "data": {
      "text/plain": [
       "0.7185413149819617"
      ]
     },
     "execution_count": 39,
     "metadata": {},
     "output_type": "execute_result"
    }
   ],
   "source": [
    "# Run KNNBasic model after train test split\n",
    "data_new = Dataset.load_from_df(new_movies[['userId', 'movieId', 'rating']], reader=reader)\n",
    "\n",
    "train_new, test_new = train_test_split(data_new, random_state=42)\n",
    "\n",
    "knn = KNNBasic(sim_options = sim_options).fit(train_new)\n",
    "knn.test(test_new)\n",
    "mae(knn.test(test_new))"
   ]
  },
  {
   "cell_type": "markdown",
   "metadata": {},
   "source": [
    "### Find closest neighbors and get movie recommendations from them"
   ]
  },
  {
   "cell_type": "code",
   "execution_count": 40,
   "metadata": {},
   "outputs": [
    {
     "data": {
      "text/plain": [
       "[6, 73, 140, 183, 213]"
      ]
     },
     "execution_count": 40,
     "metadata": {},
     "output_type": "execute_result"
    }
   ],
   "source": [
    "# Get closest neighbors to our new user\n",
    "user_id = 611 # user Id of our new user\n",
    "\n",
    "user_inner_id = train_new.to_inner_uid(user_id)\n",
    "user_neighbors = knn.get_neighbors(user_inner_id, k=5)\n",
    "user_neighbors"
   ]
  },
  {
   "cell_type": "markdown",
   "metadata": {},
   "source": [
    "Users with Ids `6`, `73`, `140`, `183`, and `213` are identified as the most closely located neighbors in `KNNBasics` model.\n",
    "\n",
    "Next, we retreive total of 5 movie recommendations from these neighbor users, using the same custome function `rec_from_similar_users()`, which we define earlier."
   ]
  },
  {
   "cell_type": "code",
   "execution_count": 41,
   "metadata": {},
   "outputs": [
    {
     "data": {
      "text/plain": [
       "['Dances with Wolves (1990)',\n",
       " 'Guardians of the Galaxy (2014)',\n",
       " 'Hunt for Red October, The (1990)',\n",
       " 'Hunt for Red October, The (1990)',\n",
       " 'Big Fish (2003)']"
      ]
     },
     "execution_count": 41,
     "metadata": {},
     "output_type": "execute_result"
    }
   ],
   "source": [
    "knn_movie_rec = []\n",
    "\n",
    "for user in user_neighbors:\n",
    "    knn_movie_rec.append(rec_from_similar_users(user_id=user, df=new_movies, sample_num=1))\n",
    "\n",
    "knn_movie_rec"
   ]
  },
  {
   "cell_type": "markdown",
   "metadata": {},
   "source": [
    "## **Third model**: `SVD` to get expected ratings for other movies from the new user\n",
    "\n",
    "### Run `SVD` model\n",
    "\n",
    "Instead of relying on other similar users, we can predict movie ratings of other movies in the dataset from the new user. We utilize `SVD` model from the `surprise` package."
   ]
  },
  {
   "cell_type": "code",
   "execution_count": 42,
   "metadata": {},
   "outputs": [],
   "source": [
    "import surprise\n",
    "from surprise import Reader, Dataset, SVD\n",
    "from surprise.model_selection import cross_validate"
   ]
  },
  {
   "cell_type": "code",
   "execution_count": 43,
   "metadata": {},
   "outputs": [],
   "source": [
    "svd = SVD(random_state=42)"
   ]
  },
  {
   "cell_type": "code",
   "execution_count": 44,
   "metadata": {},
   "outputs": [
    {
     "data": {
      "text/plain": [
       "{'test_rmse': array([0.86326747, 0.87764268, 0.8766761 , 0.88209038, 0.87106486]),\n",
       " 'test_mae': array([0.66141261, 0.67316686, 0.67835808, 0.67684598, 0.66827224]),\n",
       " 'fit_time': (0.5695228576660156,\n",
       "  0.6286346912384033,\n",
       "  0.5517339706420898,\n",
       "  0.5602788925170898,\n",
       "  0.52010178565979),\n",
       " 'test_time': (0.0457310676574707,\n",
       "  0.04504108428955078,\n",
       "  0.04651212692260742,\n",
       "  0.04686903953552246,\n",
       "  0.04678511619567871)}"
      ]
     },
     "execution_count": 44,
     "metadata": {},
     "output_type": "execute_result"
    }
   ],
   "source": [
    "cross_validate(svd, data_new, measures=['RMSE', 'MAE'])"
   ]
  },
  {
   "cell_type": "code",
   "execution_count": 45,
   "metadata": {},
   "outputs": [
    {
     "name": "stdout",
     "output_type": "stream",
     "text": [
      "MAE:  0.6663\n"
     ]
    },
    {
     "data": {
      "text/plain": [
       "0.6663255792841051"
      ]
     },
     "execution_count": 45,
     "metadata": {},
     "output_type": "execute_result"
    }
   ],
   "source": [
    "svd.fit(train_new)\n",
    "mae(svd.test(test_new))"
   ]
  },
  {
   "cell_type": "markdown",
   "metadata": {},
   "source": [
    "Compared to the `KNNBasic` model, `SVD` model has smaller MAE metric. Therefore, we decide on the **`SVD` model as our final model**. It predicts what the new user would rate for individual movies, based on the first movie rated by the new user."
   ]
  },
  {
   "cell_type": "markdown",
   "metadata": {},
   "source": [
    "### Predicting ratings of the new user for all movies"
   ]
  },
  {
   "cell_type": "code",
   "execution_count": 46,
   "metadata": {},
   "outputs": [],
   "source": [
    "movie_id = list(movies['movieId'].value_counts().index)"
   ]
  },
  {
   "cell_type": "code",
   "execution_count": 47,
   "metadata": {},
   "outputs": [],
   "source": [
    "def predict_ratings(model, user_id, movie_id):\n",
    "    \"\"\"\n",
    "    Generate predictions on the movie ratings from the target user and order the outcomes.\n",
    "\n",
    "    Parameters:\n",
    "        model (estimator): Recommendation system model to be used to predict.\n",
    "        user_id (int): The target user.\n",
    "        movie_id (list): Ids from the movies to be predicted.\n",
    "    Returns:\n",
    "        dictionary. movie Ids and predicted ratings in descending order of the ratings.\n",
    "    \"\"\"\n",
    "    predictions = {}\n",
    "    for movie in movie_id:\n",
    "        predictions[movie] = model.predict(user_id, movie)[3]\n",
    "    ordered_predictions = {key: value for key, value in sorted(predictions.items(), key=lambda x: x[1], reverse=True)}\n",
    "\n",
    "    return ordered_predictions\n"
   ]
  },
  {
   "cell_type": "code",
   "execution_count": 48,
   "metadata": {},
   "outputs": [],
   "source": [
    "def movie_recommendation(ratings, num):\n",
    "    \"\"\"\n",
    "    Take most highly rated movies to recommend.\n",
    "\n",
    "    Parameters:\n",
    "        ratings (dict): Ordered movie Ids and predicted ratings.\n",
    "        num (int): Number of recommendations.\n",
    "    Returns:\n",
    "        list. Titles of the movie recommendations\n",
    "    \"\"\"\n",
    "    recomm_movie_id = list(dict(itertools.islice(ratings.items(), num)).keys())\n",
    "\n",
    "    movie_list = []\n",
    "\n",
    "    movie_list.append(new_movies.loc[new_movies['movieId'].isin(recomm_movie_id)]['title'].unique())\n",
    "\n",
    "    \n",
    "    return movie_list"
   ]
  },
  {
   "cell_type": "code",
   "execution_count": 49,
   "metadata": {},
   "outputs": [
    {
     "data": {
      "text/plain": [
       "[array([\"Schindler's List (1993)\",\n",
       "        'Dr. Strangelove or: How I Learned to Stop Worrying and Love the Bomb (1964)',\n",
       "        \"One Flew Over the Cuckoo's Nest (1975)\", 'Brazil (1985)',\n",
       "        'Apocalypse Now (1979)'], dtype=object)]"
      ]
     },
     "execution_count": 49,
     "metadata": {},
     "output_type": "execute_result"
    }
   ],
   "source": [
    "movie_recommendation(ratings=predict_ratings(model=svd, user_id=611, movie_id=movie_id), num=5)"
   ]
  },
  {
   "cell_type": "markdown",
   "metadata": {},
   "source": [
    "These movies are 5 recommendations based on the new user's first movie rating. Movie ratings for all movies in the data set are predicted and top 5 most highly rated movies are selected for recommendations."
   ]
  },
  {
   "cell_type": "markdown",
   "metadata": {},
   "source": [
    "## Business Recommendations"
   ]
  },
  {
   "cell_type": "markdown",
   "metadata": {},
   "source": [
    "Based on the recommendation system developed above, here are some actionable recommendations to our stakeholders:\n",
    "\n",
    "1. Increase **accessibility** of movie recommendations by placing at the top of the webpage.\n",
    "\n",
    "2. Provide **feedback** survey or an icon to click on, to give us feedback on the performance of movie recommendations.\n",
    "\n",
    "3. Include actors, actresses, and directors' information to **diversify** future movie recommendations."
   ]
  },
  {
   "cell_type": "markdown",
   "metadata": {},
   "source": [
    "## Future Directions"
   ]
  },
  {
   "cell_type": "markdown",
   "metadata": {},
   "source": [
    "Here are some insights for future directions, to enhance the recommendtion system further.\n",
    "\n",
    "1. Consider focusing on movies released in **recent years**, since our current recommendations are mostly between 1980s and early 2000s.\n",
    "\n",
    "2. Investigate effects of different **devices** on movie preferences. For example, users may prefer to watch action movies on a TV, but comedy on a phone or tablet.\n",
    "\n",
    "3. Include demographic information, such as age, gender and location, of the users.\n",
    "\n",
    "4. Evaluate the selection rate, which is the rate of users actually engaging with the recommended movies. This can also help evaluate and tune the recommendation system."
   ]
  }
 ],
 "metadata": {
  "kernelspec": {
   "display_name": "Python 3 (ipykernel)",
   "language": "python",
   "name": "python3"
  },
  "language_info": {
   "codemirror_mode": {
    "name": "ipython",
    "version": 3
   },
   "file_extension": ".py",
   "mimetype": "text/x-python",
   "name": "python",
   "nbconvert_exporter": "python",
   "pygments_lexer": "ipython3",
   "version": "3.10.2"
  },
  "vscode": {
   "interpreter": {
    "hash": "aee8b7b246df8f9039afb4144a1f6fd8d2ca17a180786b69acc140d282b71a49"
   }
  }
 },
 "nbformat": 4,
 "nbformat_minor": 2
}
